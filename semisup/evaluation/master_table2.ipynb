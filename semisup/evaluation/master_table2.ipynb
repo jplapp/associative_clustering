{
 "cells": [
  {
   "cell_type": "code",
   "execution_count": 17,
   "metadata": {
    "collapsed": true
   },
   "outputs": [],
   "source": [
    "import pandas as pd\n",
    "import sqlite3\n",
    "import shlex\n",
    "import numpy as np\n",
    "import collections\n",
    "from matplotlib import pyplot as pl\n",
    "import matplotlib.cm as cm\n",
    "from ast import literal_eval\n",
    "\n",
    "%matplotlib inline\n",
    "\n",
    "def auto_cast(s):\n",
    "    try:\n",
    "        return int(s)\n",
    "    except ValueError:\n",
    "        try:\n",
    "            return float(s)\n",
    "        except ValueError:\n",
    "            if s.lower() in [\"false\", \"true\"]:\n",
    "                try:\n",
    "                    return bool(s)\n",
    "                except ValueError:\n",
    "                    pass\n",
    "    return str(s)\n",
    "\n",
    "def cmd_parser(s, sort=False, template_dict=None):\n",
    "    if '.py' in s:\n",
    "        s = s.split('.py')[1]\n",
    "    res = [x.split('=') if '=' in x else x.split(' ') for x in s.split(' --')[1:]]\n",
    "    res = dict([(x[0], auto_cast(x[1])) if len(x) == 2 else (x[0], True) for x in res])\n",
    "    if template_dict is not None:\n",
    "        template_dict.update(res)\n",
    "        res = template_dict        \n",
    "    if sort:\n",
    "        return collections.OrderedDict(sorted(res.items()))\n",
    "    else:\n",
    "        return res\n",
    "\n",
    "def get_optimal_df(leave_out, optimal_params, df):\n",
    "    df_res = df\n",
    "    print len(df_res)\n",
    "    for param, val in optimal_params.iteritems():\n",
    "        if not param == leave_out:\n",
    "            df_res = df_res[df_res[param] == val]\n",
    "            print len(df_res)\n",
    "    return df_res\n",
    "\n",
    "eval_metrics = [ 'score',\n",
    "                 'train_loss',\n",
    "                 'reg_loss',\n",
    "                 'estimated_error',\n",
    "                 'centroid_norm',\n",
    "                 'emb_norm',\n",
    "                 'k_score',\n",
    "                 'svm_score'\n",
    "               ]"
   ]
  },
  {
   "cell_type": "code",
   "execution_count": 18,
   "metadata": {
    "collapsed": false
   },
   "outputs": [
    {
     "name": "stdout",
     "output_type": "stream",
     "text": [
      "Loaded 1221 rows.\n"
     ]
    }
   ],
   "source": [
    "# Establish DB connection\n",
    "conn = sqlite3.connect(\"/usr/stud/plapp/runnn2/runnn_data\")\n",
    "df = pd.read_sql_query(\"select * from tasks where score > 0.3;\", conn)  # where status is 'done' and changed > '2017-11-05'\n",
    "conn.close()\n",
    "print(\"Loaded %d rows.\" % len(df))"
   ]
  },
  {
   "cell_type": "code",
   "execution_count": 19,
   "metadata": {
    "collapsed": true
   },
   "outputs": [],
   "source": [
    "# Turn hyperparams into columns\n",
    "hyperparams_df = df['params'].apply(literal_eval).apply(pd.Series)\n",
    "params = hyperparams_df.columns.tolist()\n",
    "df = df.join(hyperparams_df)"
   ]
  },
  {
   "cell_type": "code",
   "execution_count": 20,
   "metadata": {
    "collapsed": true,
    "scrolled": false
   },
   "outputs": [],
   "source": [
    "# Get list of datasets\n",
    "datasets = [x for x in df.dataset.unique() if x == x]"
   ]
  },
  {
   "cell_type": "code",
   "execution_count": 21,
   "metadata": {
    "collapsed": false
   },
   "outputs": [
    {
     "name": "stdout",
     "output_type": "stream",
     "text": [
      "LEADERBOARD\n",
      "mnist:\t\t83.56%\t+/- 19.32 (1117 runs)\tbest: 99.07% @ task 1812\n",
      "svhn:\t\t35.21%\t+/- 3.63 (102 runs)\tbest: 46.33% @ task 3292\n",
      "cifar_:\t\t31.59%\t+/- 1.00 (2 runs)\tbest: 32.29% @ task 4075\n"
     ]
    }
   ],
   "source": [
    "print 'LEADERBOARD'\n",
    "use_latest = 0\n",
    "best_params_per_dataset = dict()\n",
    "for dataset in datasets:\n",
    "    ddf = df[df.dataset == dataset][-use_latest:]\n",
    "    score_mean = ddf.score.mean() * 100\n",
    "    score_std = ddf.score.std() * 100\n",
    "    score_max = ddf.score.max() * 100\n",
    "    score_max_taskid = ddf.ID_task[ddf.score.argmax()]\n",
    "    print \"%s:\\t\\t%.2f%%\\t+/- %.2f (%d runs)\\tbest: %.2f%% @ task %d\" % (dataset[:6], score_mean, score_std, len(ddf), score_max, score_max_taskid)\n",
    "    best_params_per_dataset[dataset] = df[df.ID_task == score_max_taskid][['ID_task'] + params].to_dict('list')"
   ]
  },
  {
   "cell_type": "code",
   "execution_count": 22,
   "metadata": {
    "collapsed": false
   },
   "outputs": [
    {
     "data": {
      "text/plain": [
       "{'ID_task': [1812],\n",
       " 'architecture': ['resnet_mnist_model'],\n",
       " 'beta1': [0.8],\n",
       " 'beta2': [0.9],\n",
       " 'centroid_momentum': [0],\n",
       " 'cluster_association_weight': [1.0],\n",
       " 'cluster_hardening_weight': [0.0],\n",
       " 'dataset': ['mnist'],\n",
       " 'decay_factor': [0.33],\n",
       " 'decay_steps': [5000.0],\n",
       " 'dropout_keep_prob': [0.9],\n",
       " 'emb_size': [64],\n",
       " 'eval_interval': [1000],\n",
       " 'init_method': ['normal_center03'],\n",
       " 'init_with_kmeans': [True],\n",
       " 'l1_weight': [0.0],\n",
       " 'learning_rate': [0.0008],\n",
       " 'logdir': [None],\n",
       " 'logit_entropy_weight': [0.0],\n",
       " 'logit_weight': [0.5],\n",
       " 'max_steps': [17000],\n",
       " 'norm_target': [3.0],\n",
       " 'norm_weight': [1e-05],\n",
       " 'normalize_embeddings': [False],\n",
       " 'normalize_input': [True],\n",
       " 'num_augmented_samples': [3],\n",
       " 'num_blocks': [3],\n",
       " 'num_unlabeled_images': [0],\n",
       " 'optimizer': ['adam'],\n",
       " 'reg_association_weight': [1.0],\n",
       " 'reg_decay_factor': [0.2],\n",
       " 'reg_warmup_steps': [1000],\n",
       " 'restore_checkpoint': [None],\n",
       " 'rvisit_weight': [1],\n",
       " 'rwalker_weight': [1.0],\n",
       " 'scale_match_ab': [1],\n",
       " 'shuffle_augmented_samples': [False],\n",
       " 'svm_test_interval': [10000],\n",
       " 'taskid': [nan],\n",
       " 'trafo_cen_weight': [nan],\n",
       " 'trafo_separate_loss_collection': [nan],\n",
       " 'trafo_weight': [0.0],\n",
       " 'unsup_batch_size': [100],\n",
       " 'use_test': [False],\n",
       " 'virtual_embeddings_per_class': [4],\n",
       " 'visit_weight_add': [0],\n",
       " 'visit_weight_base': [0.7],\n",
       " 'volta': [False],\n",
       " 'walker_weight': [1.0],\n",
       " 'warmup_steps': [1500]}"
      ]
     },
     "execution_count": 22,
     "metadata": {},
     "output_type": "execute_result"
    }
   ],
   "source": [
    "best_params_per_dataset['mnist']"
   ]
  },
  {
   "cell_type": "code",
   "execution_count": 78,
   "metadata": {
    "collapsed": false,
    "scrolled": false
   },
   "outputs": [
    {
     "data": {
      "image/png": "[encoded data removed]",
      "text/plain": [
       "<matplotlib.figure.Figure at 0x7fc0ae149d90>"
      ]
     },
     "metadata": {},
     "output_type": "display_data"
    }
   ],
   "source": [
    "# Ablation study\n",
    "not_plot = ['dataset', 'logdir', 'restore_checkpoint']\n",
    "use_latest = 0  # how many runs to consider; 0=all\n",
    "metrics_to_plot = ['score', 'k_score'] #eval_metrics\n",
    "eval_against_optimal_params = False  # vary only param at hand, fix all others to optimum\n",
    "needs_log_scale = ['logit_entropy_weight', 'trafo_weight', 'cluster_hardening_weight']\n",
    "\n",
    "if eval_against_optimal_params:\n",
    "    # Find optimal params\n",
    "    optimal_params = dict()\n",
    "    for p in params:\n",
    "        if not p in not_plot:\n",
    "            optimal_params[p] = df.pivot_table('score', columns=[p]).argmax()\n",
    "\n",
    "for param in params[:1]:\n",
    "    if param in not_plot:\n",
    "        continue\n",
    "        \n",
    "    is_numeric = True\n",
    "    try:\n",
    "        df[param].astype(float)\n",
    "    except ValueError:\n",
    "        is_numeric = False\n",
    "    \n",
    "    if is_numeric:\n",
    "        xstd = df[param].std()\n",
    "        xmin = df[param].min()-xstd\n",
    "        xmax = df[param].max()+xstd\n",
    "    else:\n",
    "        xlabels = [i for i in df[param].unique() if i==i]  # remove nans\n",
    "        label_to_x = dict([(j,i) for (i,j) in enumerate(all_labels)])\n",
    "\n",
    "    colors = iter(cm.Dark2(np.linspace(0, 1, len(datasets))))\n",
    "\n",
    "    fig, axs = pl.subplots(1, len(metrics_to_plot), figsize=(10,3))\n",
    "    for dataset in datasets: \n",
    "        ddf = df[df.dataset == dataset][-use_latest:]\n",
    "        if eval_against_optimal_params:\n",
    "            ddf = get_optimal_df(param, optimal_params, ddf)\n",
    "        label = \"%s (%d runs)\" % (dataset, len(ddf))\n",
    "        c = next(colors)\n",
    "        \n",
    "        xs = ddf[param].unique() \n",
    "        xs = [i for i in xs if i==i]  # remove nans\n",
    "        \n",
    "        if not is_numeric:\n",
    "            xs_ = []\n",
    "            for x in xs:\n",
    "                xval = label_to_x[x]\n",
    "                xs_.append(xval)\n",
    "            xs = xs_\n",
    "            xmin = -0.5\n",
    "            xmax = len(xs) - 0.5\n",
    "        \n",
    "        for ax, metric_to_plot in enumerate(metrics_to_plot):\n",
    "            ys = []\n",
    "            for x in xs:\n",
    "                if is_numeric:\n",
    "                    y = ddf[ddf[param] == x][metric_to_plot].astype(float)\n",
    "                else:\n",
    "                    y = ddf[ddf[param] == xlabels[x]][metric_to_plot].astype(float)\n",
    "                yerr = y.std()\n",
    "                y = y.mean()\n",
    "                ys.append(y)\n",
    "                \n",
    "                if param in needs_log_scale:\n",
    "                    x += 1e-8\n",
    "                axs[ax].errorbar(x, y, yerr=yerr, label=label, color=c, marker='o')\n",
    "\n",
    "            if not xmin == xmax and not param in needs_log_scale:\n",
    "                axs[ax].set_xlim((xmin, xmax))\n",
    "\n",
    "            if not is_numeric:\n",
    "                axs[ax].set_xticks(xs, minor=False)\n",
    "                axs[ax].set_xticklabels(xlabels, minor=False, rotation=40, fontsize=8)\n",
    "               \n",
    "            if False and len(xs) > 1: \n",
    "                deg = np.clip(len(xs)-1, 1, 3)\n",
    "                pf = np.poly1d(np.polyfit(xs, ys, deg))\n",
    "                xp = np.linspace(np.min(xs), np.max(xs), 50)\n",
    "                axs[ax].plot(xp, pf(xp), color=c)\n",
    "\n",
    "            # fix legend\n",
    "            handles, labels = axs[ax].get_legend_handles_labels()\n",
    "            newLabels, newHandles = [], []\n",
    "            for handle, label in zip(handles, labels):\n",
    "                if label not in newLabels:\n",
    "                    newLabels.append(label)\n",
    "                    newHandles.append(handle)\n",
    "            #axs[ax].legend(newHandles, newLabels, loc='best', fontsize=8)\n",
    "            \n",
    "            axs[ax].set_xlabel(param)\n",
    "            axs[ax].set_ylabel(metric_to_plot)\n",
    "            if param in needs_log_scale:\n",
    "                axs[ax].set_xscale(\"log\")\n",
    "    pl.show()"
   ]
  },
  {
   "cell_type": "code",
   "execution_count": 83,
   "metadata": {
    "collapsed": false
   },
   "outputs": [
    {
     "data": {
      "text/plain": [
       "array(['resnet_mnist_model_d', 'resnet_mnist_model', 'resnet_cifar_model'], dtype=object)"
      ]
     },
     "execution_count": 83,
     "metadata": {},
     "output_type": "execute_result"
    }
   ],
   "source": [
    "xlabels"
   ]
  }
 ],
 "metadata": {
  "kernelspec": {
   "display_name": "Python 2",
   "language": "python",
   "name": "python2"
  },
  "language_info": {
   "codemirror_mode": {
    "name": "ipython",
    "version": 2
   },
   "file_extension": ".py",
   "mimetype": "text/x-python",
   "name": "python",
   "nbconvert_exporter": "python",
   "pygments_lexer": "ipython2",
   "version": "2.7.12"
  }
 },
 "nbformat": 4,
 "nbformat_minor": 2
}
