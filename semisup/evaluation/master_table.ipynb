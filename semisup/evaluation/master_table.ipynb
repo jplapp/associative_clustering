{
 "cells": [
  {
   "cell_type": "code",
   "execution_count": 204,
   "metadata": {
    "collapsed": false
   },
   "outputs": [],
   "source": [
    "import pandas as pd\n",
    "import sqlite3\n",
    "import shlex\n",
    "import numpy as np\n",
    "import collections\n",
    "\n",
    "def auto_cast(s):\n",
    "    try:\n",
    "        return int(s)\n",
    "    except ValueError:\n",
    "        try:\n",
    "            return float(s)\n",
    "        except ValueError:\n",
    "            if s.lower() in [\"false\", \"true\"]:\n",
    "                try:\n",
    "                    return bool(s)\n",
    "                except ValueError:\n",
    "                    pass\n",
    "    return str(s)\n",
    "\n",
    "def cmd_parser(s, sort=False, template=None):\n",
    "    if '.py' in s:\n",
    "        s = s.split('.py')[1]\n",
    "    res = [x.split('=') if '=' in x else x.split(' ') for x in s.split(' --')[1:]]\n",
    "    res = dict([(x[0], auto_cast(x[1])) if len(x) == 2 else (x[0], True) for x in res])\n",
    "    if template is not None:\n",
    "        template_dict = dict([(x, np.nan) for x in template])\n",
    "        template_dict.update(res)\n",
    "        res = template_dict\n",
    "    if sort:\n",
    "        return collections.OrderedDict(sorted(res.items()))\n",
    "    else:\n",
    "        return res\n",
    "\n"
   ]
  },
  {
   "cell_type": "code",
   "execution_count": 205,
   "metadata": {
    "collapsed": true
   },
   "outputs": [],
   "source": [
    "# Establish DB connection\n",
    "conn = sqlite3.connect(\"/usr/stud/plapp/runnn/runnn_data\")\n",
    "df = pd.read_sql_query(\"select * from tasks where status is 'done';\", conn)"
   ]
  },
  {
   "cell_type": "code",
   "execution_count": 206,
   "metadata": {
    "collapsed": false
   },
   "outputs": [],
   "source": [
    "# Get list of hyper params\n",
    "params = []\n",
    "for row in df.cmd:\n",
    "    params += ([x.split('=')[0] if '=' in x else x.split(' ')[0] for x in row.split(' --')[1:]])\n",
    "params = np.unique(params).astype(str)  # is already sorted\n",
    "\n",
    "for param in params:\n",
    "    df[param] = np.nan"
   ]
  },
  {
   "cell_type": "code",
   "execution_count": 207,
   "metadata": {
    "collapsed": false
   },
   "outputs": [],
   "source": [
    "# Split args into columns\n",
    "cmd_splitter = lambda x: pd.Series([i for i in cmd_parser(x, True, params).values()])\n",
    "df[params] = df.cmd.apply(cmd_splitter)"
   ]
  },
  {
   "cell_type": "code",
   "execution_count": 208,
   "metadata": {
    "collapsed": false
   },
   "outputs": [],
   "source": [
    "# Remove NaN scores\n",
    "# df = df.dropna(thresh=len(params))"
   ]
  },
  {
   "cell_type": "code",
   "execution_count": 233,
   "metadata": {
    "collapsed": false,
    "scrolled": false
   },
   "outputs": [],
   "source": [
    "# Get list of datasets\n",
    "datasets = [x for x in df.dataset.unique() if x == x]"
   ]
  },
  {
   "cell_type": "code",
   "execution_count": 234,
   "metadata": {
    "collapsed": false
   },
   "outputs": [
    {
     "name": "stdout",
     "output_type": "stream",
     "text": [
      "LEADERBOARD\n",
      "stl10:\t\t39.92%\t+/- 4.37\n",
      "cifar_:\t\t29.96%\t+/- 1.76\n",
      "frgc:\t\t43.33%\t+/- 3.33\n"
     ]
    }
   ],
   "source": [
    "print 'LEADERBOARD'\n",
    "for dataset in datasets:\n",
    "    score_mean = df[df.dataset == dataset].score.mean() * 100\n",
    "    score_std = df[df.dataset == dataset].score.std() * 100\n",
    "    print \"%s:\\t\\t%.2f%%\\t+/- %.2f\" % (dataset[:6], score_mean, score_std)"
   ]
  }
 ],
 "metadata": {
  "kernelspec": {
   "display_name": "Python 2",
   "language": "python",
   "name": "python2"
  },
  "language_info": {
   "codemirror_mode": {
    "name": "ipython",
    "version": 2
   },
   "file_extension": ".py",
   "mimetype": "text/x-python",
   "name": "python",
   "nbconvert_exporter": "python",
   "pygments_lexer": "ipython2",
   "version": "2.7.12"
  }
 },
 "nbformat": 4,
 "nbformat_minor": 2
}
