{
 "cells": [
  {
   "cell_type": "code",
   "execution_count": 5,
   "metadata": {},
   "outputs": [
    {
     "name": "stdout",
     "output_type": "stream",
     "text": [
      "total 804660\r\n",
      "drwxrwxrwt 131 root     root       36864 Aug 19 10:44 \u001b[0m\u001b[30;42m.\u001b[0m/\r\n",
      "-rw-r--r--   1 plapp    tumuser 47452108 Aug 19 10:44 semisup_mnist-28500.meta\r\n",
      "-rw-r--r--   1 plapp    tumuser      325 Aug 19 10:44 checkpoint\r\n",
      "-rw-r--r--   1 plapp    tumuser  3482460 Aug 19 10:44 semisup_mnist-28500.data-00000-of-00001\r\n",
      "-rw-r--r--   1 plapp    tumuser     1439 Aug 19 10:44 semisup_mnist-28500.index\r\n",
      "-rw-r--r--   1 plapp    tumuser 47452108 Aug 19 10:44 semisup_mnist-28000.meta\r\n",
      "-rw-r--r--   1 plapp    tumuser  3482460 Aug 19 10:44 semisup_mnist-28000.data-00000-of-00001\r\n",
      "-rw-r--r--   1 plapp    tumuser     1439 Aug 19 10:44 semisup_mnist-28000.index\r\n",
      "-rw-r--r--   1 plapp    tumuser 47452108 Aug 19 10:44 semisup_mnist-27500.meta\r\n",
      "-rw-r--r--   1 plapp    tumuser  3482460 Aug 19 10:44 semisup_mnist-27500.data-00000-of-00001\r\n",
      "-rw-r--r--   1 plapp    tumuser     1439 Aug 19 10:44 semisup_mnist-27500.index\r\n",
      "-rw-r--r--   1 plapp    tumuser 47452108 Aug 19 10:44 semisup_mnist-27100.meta\r\n",
      "-rw-r--r--   1 plapp    tumuser  3482460 Aug 19 10:44 semisup_mnist-27100.data-00000-of-00001\r\n",
      "-rw-r--r--   1 plapp    tumuser     1439 Aug 19 10:44 semisup_mnist-27100.index\r\n",
      "-rw-r--r--   1 plapp    tumuser 47452108 Aug 19 10:44 semisup_mnist-27000.meta\r\n",
      "-rw-r--r--   1 plapp    tumuser  3482460 Aug 19 10:44 semisup_mnist-27000.data-00000-of-00001\r\n",
      "-rw-r--r--   1 plapp    tumuser     1439 Aug 19 10:44 semisup_mnist-27000.index\r\n",
      "drwxr-xr-x   2 plapp    tumuser     4096 Aug 19 10:34 \u001b[01;34msemisup_mnist\u001b[0m/\r\n",
      "-rw-r--r--   1 plapp    tumuser 47452108 Aug 19 10:33 semisup_mnist-12100.meta\r\n",
      "-rw-r--r--   1 plapp    tumuser  3482460 Aug 19 10:33 semisup_mnist-12100.data-00000-of-00001\r\n",
      "-rw-r--r--   1 plapp    tumuser     1439 Aug 19 10:33 semisup_mnist-12100.index\r\n",
      "-rw-r--r--   1 plapp    tumuser 47452108 Aug 19 10:27 semisup_mnist-900.meta\r\n",
      "-rw-r--r--   1 plapp    tumuser  3482460 Aug 19 10:27 semisup_mnist-900.data-00000-of-00001\r\n",
      "-rw-r--r--   1 plapp    tumuser     1439 Aug 19 10:27 semisup_mnist-900.index\r\n",
      "-rw-r--r--   1 plapp    tumuser 47452108 Aug 19 10:27 semisup_mnist-800.meta\r\n",
      "-rw-r--r--   1 plapp    tumuser  3482460 Aug 19 10:27 semisup_mnist-800.data-00000-of-00001\r\n",
      "-rw-r--r--   1 plapp    tumuser     1439 Aug 19 10:27 semisup_mnist-800.index\r\n",
      "-rw-r--r--   1 plapp    tumuser 47452108 Aug 19 10:27 semisup_mnist-700.meta\r\n",
      "-rw-r--r--   1 plapp    tumuser     1439 Aug 19 10:27 semisup_mnist-700.index\r\n",
      "-rw-r--r--   1 plapp    tumuser  3482460 Aug 19 10:27 semisup_mnist-700.data-00000-of-00001\r\n",
      "-rw-r--r--   1 plapp    tumuser 47452108 Aug 19 10:27 semisup_mnist-600.meta\r\n",
      "-rw-r--r--   1 plapp    tumuser  3482460 Aug 19 10:27 semisup_mnist-600.data-00000-of-00001\r\n",
      "-rw-r--r--   1 plapp    tumuser     1439 Aug 19 10:27 semisup_mnist-600.index\r\n",
      "-r--r--r--   1 root     root          11 Aug 18 13:05 .X0-lock\r\n",
      "drwxrwxrwt   2 root     root        4096 Aug 18 13:05 \u001b[30;42m.X11-unix\u001b[0m/\r\n",
      "drwxrwxrwt   2 root     root        4096 Aug 18 13:05 \u001b[30;42m.ICE-unix\u001b[0m/\r\n",
      "-rw-------   1 psallida tumuser        0 Aug 18 09:34 config-err-1enYFz\r\n",
      "-rw-------   1 psallida tumuser  5242880 Aug 17 19:22 tmp5d3c209f.tmp\r\n",
      "drwx------   2 psallida tumuser     4096 Aug 17 19:22 \u001b[01;34mmozilla_psallida0\u001b[0m/\r\n",
      "-rw-r--r--   1 psallida tumuser        0 Aug 17 14:32 unity_support_test.0\r\n",
      "-rw-------   1 psallida tumuser        0 Aug 17 14:32 config-err-HtOyXS\r\n",
      "drwx------   2 zhouq    tumuser     4096 Aug 17 14:13 \u001b[01;34mtmux-12073\u001b[0m/\r\n",
      "drwxr-xr-x  26 root     root        4096 Aug 16 01:17 \u001b[01;34m..\u001b[0m/\r\n",
      "-rw-r--r--   1 plapp    tumuser  3744337 Aug 11 06:44 semisup_cifar-233819.meta\r\n",
      "-rw-r--r--   1 plapp    tumuser  4837964 Aug 11 06:44 semisup_cifar-233819.data-00000-of-00001\r\n",
      "-rw-r--r--   1 plapp    tumuser    13323 Aug 11 06:44 semisup_cifar-233819.index\r\n",
      "-rw-r--r--   1 plapp    tumuser  3744337 Aug 11 06:40 semisup_cifar-233037.meta\r\n",
      "-rw-r--r--   1 plapp    tumuser  4837964 Aug 11 06:40 semisup_cifar-233037.data-00000-of-00001\r\n",
      "-rw-r--r--   1 plapp    tumuser    13323 Aug 11 06:40 semisup_cifar-233037.index\r\n",
      "-rw-r--r--   1 plapp    tumuser  3744337 Aug 11 06:36 semisup_cifar-232255.meta\r\n",
      "-rw-r--r--   1 plapp    tumuser  4837964 Aug 11 06:36 semisup_cifar-232255.data-00000-of-00001\r\n",
      "-rw-r--r--   1 plapp    tumuser    13323 Aug 11 06:36 semisup_cifar-232255.index\r\n",
      "-rw-r--r--   1 plapp    tumuser  3744337 Aug 11 06:32 semisup_cifar-231473.meta\r\n",
      "-rw-r--r--   1 plapp    tumuser    13323 Aug 11 06:32 semisup_cifar-231473.index\r\n",
      "-rw-r--r--   1 plapp    tumuser  4837964 Aug 11 06:32 semisup_cifar-231473.data-00000-of-00001\r\n",
      "-rw-r--r--   1 plapp    tumuser  3744337 Aug 11 06:28 semisup_cifar-230691.meta\r\n",
      "-rw-r--r--   1 plapp    tumuser  4837964 Aug 11 06:28 semisup_cifar-230691.data-00000-of-00001\r\n",
      "-rw-r--r--   1 plapp    tumuser    13323 Aug 11 06:28 semisup_cifar-230691.index\r\n",
      "drwxr-xr-x   2 plapp    tumuser     4096 Aug 10 10:00 \u001b[01;34msemisup_cifar\u001b[0m/\r\n",
      "-rw-r--r--   1 plapp    tumuser  4150069 Aug  8 14:57 semisup_cifar-973.meta\r\n",
      "-rw-r--r--   1 plapp    tumuser  8550156 Aug  8 14:57 semisup_cifar-973.data-00000-of-00001\r\n",
      "-rw-r--r--   1 plapp    tumuser    13556 Aug  8 14:57 semisup_cifar-973.index\r\n",
      "-rw-r--r--   1 plapp    tumuser  4150069 Aug  8 14:57 semisup_cifar-972.meta\r\n",
      "-rw-r--r--   1 plapp    tumuser    13556 Aug  8 14:57 semisup_cifar-972.index\r\n",
      "-rw-r--r--   1 plapp    tumuser  8550156 Aug  8 14:57 semisup_cifar-972.data-00000-of-00001\r\n",
      "-rw-r--r--   1 plapp    tumuser  4150069 Aug  8 14:57 semisup_cifar-971.meta\r\n",
      "-rw-r--r--   1 plapp    tumuser  8550156 Aug  8 14:57 semisup_cifar-971.data-00000-of-00001\r\n",
      "-rw-r--r--   1 plapp    tumuser    13556 Aug  8 14:57 semisup_cifar-971.index\r\n",
      "-rw-r--r--   1 plapp    tumuser  4150069 Aug  8 14:57 semisup_cifar-970.meta\r\n",
      "-rw-r--r--   1 plapp    tumuser  8550156 Aug  8 14:57 semisup_cifar-970.data-00000-of-00001\r\n",
      "-rw-r--r--   1 plapp    tumuser    13556 Aug  8 14:57 semisup_cifar-970.index\r\n",
      "-rw-r--r--   1 plapp    tumuser  4150069 Aug  8 14:57 semisup_cifar-969.meta\r\n",
      "-rw-r--r--   1 plapp    tumuser  8550156 Aug  8 14:57 semisup_cifar-969.data-00000-of-00001\r\n",
      "-rw-r--r--   1 plapp    tumuser    13556 Aug  8 14:57 semisup_cifar-969.index\r\n",
      "-rw-r--r--   1 plapp    tumuser  4150069 Aug  8 14:45 semisup_cifar-42.meta\r\n",
      "-rw-r--r--   1 plapp    tumuser  8550156 Aug  8 14:45 semisup_cifar-42.data-00000-of-00001\r\n",
      "-rw-r--r--   1 plapp    tumuser    13556 Aug  8 14:45 semisup_cifar-42.index\r\n",
      "-rw-r--r--   1 plapp    tumuser  4150069 Aug  8 14:45 semisup_cifar-41.meta\r\n",
      "-rw-r--r--   1 plapp    tumuser  8550156 Aug  8 14:45 semisup_cifar-41.data-00000-of-00001\r\n",
      "-rw-r--r--   1 plapp    tumuser    13556 Aug  8 14:45 semisup_cifar-41.index\r\n",
      "-rw-r--r--   1 plapp    tumuser  4150069 Aug  8 14:45 semisup_cifar-40.meta\r\n",
      "-rw-r--r--   1 plapp    tumuser  8550156 Aug  8 14:45 semisup_cifar-40.data-00000-of-00001\r\n",
      "-rw-r--r--   1 plapp    tumuser    13556 Aug  8 14:45 semisup_cifar-40.index\r\n",
      "-rw-r--r--   1 plapp    tumuser  4150069 Aug  8 14:45 semisup_cifar-39.meta\r\n",
      "-rw-r--r--   1 plapp    tumuser  8550156 Aug  8 14:45 semisup_cifar-39.data-00000-of-00001\r\n",
      "-rw-r--r--   1 plapp    tumuser    13556 Aug  8 14:45 semisup_cifar-39.index\r\n",
      "-rw-r--r--   1 plapp    tumuser  4150069 Aug  8 14:45 semisup_cifar-38.meta\r\n",
      "-rw-r--r--   1 plapp    tumuser  8550156 Aug  8 14:45 semisup_cifar-38.data-00000-of-00001\r\n",
      "-rw-r--r--   1 plapp    tumuser    13556 Aug  8 14:45 semisup_cifar-38.index\r\n",
      "-rw-r--r--   1 plapp    tumuser  4150068 Aug  8 14:43 semisup_cifar-4000.meta\r\n",
      "-rw-r--r--   1 plapp    tumuser    13556 Aug  8 14:43 semisup_cifar-4000.index\r\n",
      "-rw-r--r--   1 plapp    tumuser  8550156 Aug  8 14:43 semisup_cifar-4000.data-00000-of-00001\r\n",
      "-rw-r--r--   1 plapp    tumuser  4150068 Aug  8 14:42 semisup_cifar-3800.meta\r\n",
      "-rw-r--r--   1 plapp    tumuser  8550156 Aug  8 14:42 semisup_cifar-3800.data-00000-of-00001\r\n",
      "-rw-r--r--   1 plapp    tumuser    13556 Aug  8 14:42 semisup_cifar-3800.index\r\n",
      "-rw-r--r--   1 plapp    tumuser  4150068 Aug  8 14:41 semisup_cifar-3600.meta\r\n",
      "-rw-r--r--   1 plapp    tumuser  8550156 Aug  8 14:41 semisup_cifar-3600.data-00000-of-00001\r\n",
      "-rw-r--r--   1 plapp    tumuser    13556 Aug  8 14:41 semisup_cifar-3600.index\r\n",
      "-rw-r--r--   1 plapp    tumuser  4150068 Aug  8 14:40 semisup_cifar-3400.meta\r\n",
      "-rw-r--r--   1 plapp    tumuser  8550156 Aug  8 14:40 semisup_cifar-3400.data-00000-of-00001\r\n",
      "-rw-r--r--   1 plapp    tumuser    13556 Aug  8 14:40 semisup_cifar-3400.index\r\n",
      "-rw-r--r--   1 plapp    tumuser  4150068 Aug  8 14:39 semisup_cifar-3200.meta\r\n",
      "-rw-r--r--   1 plapp    tumuser    13556 Aug  8 14:39 semisup_cifar-3200.index\r\n",
      "-rw-r--r--   1 plapp    tumuser  8550156 Aug  8 14:39 semisup_cifar-3200.data-00000-of-00001\r\n",
      "drwx------   2 leidinge tumuser     4096 Aug  8 14:06 \u001b[01;34mfirefox_leidinge\u001b[0m/\r\n",
      "-rw-r--r--   1 plapp    tumuser   291574 Aug  8 11:45 semisup_cifar-100.meta\r\n",
      "-rw-r--r--   1 plapp    tumuser  8931980 Aug  8 11:45 semisup_cifar-100.data-00000-of-00001\r\n",
      "-rw-r--r--   1 plapp    tumuser     2590 Aug  8 11:45 semisup_cifar-100.index\r\n",
      "-rw-r--r--   1 plapp    tumuser   291278 Aug  8 11:42 semisup_cifar-7200.meta\r\n",
      "-rw-r--r--   1 plapp    tumuser  9071300 Aug  8 11:42 semisup_cifar-7200.data-00000-of-00001\r\n",
      "-rw-r--r--   1 plapp    tumuser     2596 Aug  8 11:42 semisup_cifar-7200.index\r\n",
      "-rw-r--r--   1 plapp    tumuser   291278 Aug  8 11:42 semisup_cifar-7000.meta\r\n",
      "-rw-r--r--   1 plapp    tumuser  9071300 Aug  8 11:42 semisup_cifar-7000.data-00000-of-00001\r\n",
      "-rw-r--r--   1 plapp    tumuser     2596 Aug  8 11:42 semisup_cifar-7000.index\r\n",
      "-rw-r--r--   1 plapp    tumuser   291278 Aug  8 11:42 semisup_cifar-6800.meta\r\n",
      "-rw-r--r--   1 plapp    tumuser     2596 Aug  8 11:42 semisup_cifar-6800.index\r\n",
      "-rw-r--r--   1 plapp    tumuser  9071300 Aug  8 11:42 semisup_cifar-6800.data-00000-of-00001\r\n",
      "-rw-r--r--   1 plapp    tumuser   291278 Aug  8 11:42 semisup_cifar-6600.meta\r\n",
      "-rw-r--r--   1 plapp    tumuser  9071300 Aug  8 11:42 semisup_cifar-6600.data-00000-of-00001\r\n",
      "-rw-r--r--   1 plapp    tumuser     2596 Aug  8 11:42 semisup_cifar-6600.index\r\n",
      "-rw-r--r--   1 plapp    tumuser   291278 Aug  8 11:42 semisup_cifar-6400.meta\r\n",
      "-rw-r--r--   1 plapp    tumuser  9071300 Aug  8 11:42 semisup_cifar-6400.data-00000-of-00001\r\n",
      "-rw-r--r--   1 plapp    tumuser     2596 Aug  8 11:42 semisup_cifar-6400.index\r\n",
      "-rw-r--r--   1 plapp    tumuser   291278 Aug  8 11:11 semisup_cifar-5500.meta\r\n",
      "-rw-r--r--   1 plapp    tumuser  9071300 Aug  8 11:11 semisup_cifar-5500.data-00000-of-00001\r\n",
      "-rw-r--r--   1 plapp    tumuser     2596 Aug  8 11:11 semisup_cifar-5500.index\r\n",
      "-rw-r--r--   1 plapp    tumuser   291278 Aug  8 11:09 semisup_cifar-4500.meta\r\n",
      "-rw-r--r--   1 plapp    tumuser  9071300 Aug  8 11:09 semisup_cifar-4500.data-00000-of-00001\r\n",
      "-rw-r--r--   1 plapp    tumuser     2596 Aug  8 11:09 semisup_cifar-4500.index\r\n",
      "drwxr-xr-x   2 s030     tumuser     4096 Aug  7 21:19 \u001b[01;34mhsperfdata_s030\u001b[0m/\r\n",
      "drwx------   2 s198     tumuser     4096 Aug  7 20:46 \u001b[01;34mpymp-QOFpH1\u001b[0m/\r\n",
      "drwx------   2 s198     tumuser     4096 Aug  7 20:46 \u001b[01;34mpymp-8pNNPg\u001b[0m/\r\n",
      "drwx------   2 s198     tumuser     4096 Aug  7 20:46 \u001b[01;34mpymp-gBw_yf\u001b[0m/\r\n",
      "drwx------   2 s198     tumuser     4096 Aug  7 20:46 \u001b[01;34mpymp-rZhkXg\u001b[0m/\r\n",
      "drwx------   2 s198     tumuser     4096 Aug  7 20:46 \u001b[01;34mpymp-mJfmQd\u001b[0m/\r\n",
      "drwx------   2 s198     tumuser     4096 Aug  7 20:46 \u001b[01;34mpymp-VYPDHy\u001b[0m/\r\n",
      "drwx------   2 s198     tumuser     4096 Aug  7 20:45 \u001b[01;34mpymp-YXHLFL\u001b[0m/\r\n",
      "drwx------   2 s198     tumuser     4096 Aug  7 20:45 \u001b[01;34mpymp-fy1Qs8\u001b[0m/\r\n",
      "drwx------   2 s198     tumuser     4096 Aug  7 20:45 \u001b[01;34mpymp-o1Bczi\u001b[0m/\r\n",
      "drwx------   2 s198     tumuser     4096 Aug  7 20:45 \u001b[01;34mpymp-rpWBh8\u001b[0m/\r\n",
      "drwx------   2 s198     tumuser     4096 Aug  7 20:45 \u001b[01;34mpymp-lDDswE\u001b[0m/\r\n",
      "drwx------   2 s198     tumuser     4096 Aug  7 20:45 \u001b[01;34mpymp-u08JiI\u001b[0m/\r\n",
      "drwx------   2 s198     tumuser     4096 Aug  7 20:44 \u001b[01;34mpymp-nEMhCC\u001b[0m/\r\n",
      "drwx------   2 s198     tumuser     4096 Aug  7 20:44 \u001b[01;34mpymp-V0Ee6Y\u001b[0m/\r\n",
      "drwx------   2 s198     tumuser     4096 Aug  7 20:44 \u001b[01;34mpymp-pntUgk\u001b[0m/\r\n",
      "drwx------   2 s198     tumuser     4096 Aug  7 20:44 \u001b[01;34mpymp-xAZDUY\u001b[0m/\r\n",
      "drwx------   2 s198     tumuser     4096 Aug  7 20:41 \u001b[01;34mpymp-_B1zre\u001b[0m/\r\n",
      "drwx------   2 s198     tumuser     4096 Aug  7 20:41 \u001b[01;34mpymp-iIRs4N\u001b[0m/\r\n",
      "drwx------   2 s198     tumuser     4096 Aug  7 20:41 \u001b[01;34mpymp-3tCfFV\u001b[0m/\r\n",
      "drwx------   2 s198     tumuser     4096 Aug  7 20:41 \u001b[01;34mpymp-1N2kNq\u001b[0m/\r\n",
      "drwx------   2 s198     tumuser     4096 Aug  7 20:41 \u001b[01;34mpymp-gp4J2j\u001b[0m/\r\n",
      "drwx------   2 s198     tumuser     4096 Aug  7 20:41 \u001b[01;34mpymp-eSesoi\u001b[0m/\r\n",
      "drwx------   2 s198     tumuser     4096 Aug  7 20:39 \u001b[01;34mpymp-QuYX8a\u001b[0m/\r\n",
      "drwx------   2 s198     tumuser     4096 Aug  7 20:39 \u001b[01;34mpymp-TFyeky\u001b[0m/\r\n",
      "drwx------   2 s198     tumuser     4096 Aug  7 20:39 \u001b[01;34mpymp-6dOgkb\u001b[0m/\r\n",
      "drwx------   2 s198     tumuser     4096 Aug  7 20:39 \u001b[01;34mpymp-i9SHlP\u001b[0m/\r\n",
      "drwx------   2 s198     tumuser     4096 Aug  7 20:39 \u001b[01;34mpymp-lMNmyM\u001b[0m/\r\n",
      "drwx------   2 s241     tumuser     4096 Aug  7 15:27 \u001b[01;34mfirefox_s241\u001b[0m/\r\n",
      "drwx------   2 s241     tumuser     4096 Aug  7 15:08 \u001b[01;34mtmux-264241\u001b[0m/\r\n",
      "drwx------   2 s198     tumuser     4096 Aug  7 14:44 \u001b[01;34mtmux-264198\u001b[0m/\r\n",
      "drwx------   2 s198     tumuser     4096 Aug  7 14:33 \u001b[01;34mpymp-SZ8BzQ\u001b[0m/\r\n",
      "drwx------   2 s198     tumuser     4096 Aug  7 14:33 \u001b[01;34mpymp-1qFNB2\u001b[0m/\r\n",
      "drwx------   2 s198     tumuser     4096 Aug  7 14:33 \u001b[01;34mpymp-soz1Bj\u001b[0m/\r\n",
      "drwx------   2 s198     tumuser     4096 Aug  7 14:33 \u001b[01;34mpymp-Pro5yd\u001b[0m/\r\n",
      "drwx------   2 s198     tumuser     4096 Aug  7 14:33 \u001b[01;34mpymp-mEFuKF\u001b[0m/\r\n",
      "drwx------   2 s198     tumuser     4096 Aug  7 14:33 \u001b[01;34mpymp-FbN8yu\u001b[0m/\r\n",
      "drwx------   2 s198     tumuser     4096 Aug  7 14:33 \u001b[01;34mpymp-5M7RM9\u001b[0m/\r\n",
      "drwx------   2 s198     tumuser     4096 Aug  7 14:33 \u001b[01;34mpymp-OFA4co\u001b[0m/\r\n",
      "drwx------   2 s266     tumuser     4096 Aug  7 13:54 \u001b[01;34mpymp-ApUr8Q\u001b[0m/\r\n",
      "drwx------   2 s266     tumuser     4096 Aug  7 13:52 \u001b[01;34mpymp-vYGMzZ\u001b[0m/\r\n",
      "drwx------   2 s182     tumuser     4096 Aug  6 22:20 \u001b[01;34mpymp-I0RpJu\u001b[0m/\r\n",
      "drwx------   2 s182     tumuser     4096 Aug  6 22:20 \u001b[01;34mpymp-j8ny8U\u001b[0m/\r\n",
      "drwx------   2 s182     tumuser     4096 Aug  6 22:01 \u001b[01;34mpymp-1ZQ0vO\u001b[0m/\r\n",
      "drwx------   2 s182     tumuser     4096 Aug  6 22:01 \u001b[01;34mpymp-bIbgqW\u001b[0m/\r\n",
      "drwx------   2 s182     tumuser     4096 Aug  6 22:01 \u001b[01;34mpymp-n2kAvx\u001b[0m/\r\n",
      "drwx------   2 s182     tumuser     4096 Aug  6 22:01 \u001b[01;34mpymp-eBBfRi\u001b[0m/\r\n",
      "drwx------   2 s182     tumuser     4096 Aug  6 21:49 \u001b[01;34mtmux-264182\u001b[0m/\r\n",
      "drwx------   2 s182     tumuser     4096 Aug  6 19:58 \u001b[01;34mpymp-QwOkw4\u001b[0m/\r\n",
      "drwx------   2 plapp    tumuser     4096 Aug  6 16:29 \u001b[01;34mtmux-28970\u001b[0m/\r\n",
      "drwx------   5 plapp    tumuser     4096 Aug  6 15:25 \u001b[01;34mpip-build-xmu3wu6h\u001b[0m/\r\n",
      "drwx------   2 s182     tumuser     4096 Aug  6 13:20 \u001b[01;34mpymp-Hu81uw\u001b[0m/\r\n",
      "drwx------   2 s182     tumuser     4096 Aug  6 13:20 \u001b[01;34mpymp-3UvhKl\u001b[0m/\r\n",
      "drwx------   2 s182     tumuser     4096 Aug  6 13:20 \u001b[01;34mpymp-WhBcFj\u001b[0m/\r\n",
      "drwx------   2 s182     tumuser     4096 Aug  6 12:14 \u001b[01;34mpymp-82026e\u001b[0m/\r\n",
      "drwx------   2 s182     tumuser     4096 Aug  6 12:14 \u001b[01;34mpymp-_dqhUo\u001b[0m/\r\n",
      "drwx------   2 s182     tumuser     4096 Aug  6 12:14 \u001b[01;34mpymp-6DfkJj\u001b[0m/\r\n",
      "drwx------   2 s182     tumuser     4096 Aug  6 12:14 \u001b[01;34mpymp-_mcjph\u001b[0m/\r\n",
      "drwx------   2 s182     tumuser     4096 Aug  6 04:50 \u001b[01;34mpymp-gcehwF\u001b[0m/\r\n",
      "drwx------   2 s182     tumuser     4096 Aug  6 04:50 \u001b[01;34mpymp-W87kmj\u001b[0m/\r\n",
      "drwx------   2 s182     tumuser     4096 Aug  6 04:50 \u001b[01;34mpymp-bgtEBq\u001b[0m/\r\n",
      "drwx------   2 s182     tumuser     4096 Aug  6 04:50 \u001b[01;34mpymp-JPAcP4\u001b[0m/\r\n",
      "drwx------   2 s266     tumuser     4096 Aug  6 00:38 \u001b[01;34mpymp-DLVUpQ\u001b[0m/\r\n",
      "drwx------   2 s215     tumuser     4096 Aug  5 18:55 \u001b[01;34mpymp-rpQstq\u001b[0m/\r\n",
      "drwx------   2 s215     tumuser     4096 Aug  5 18:55 \u001b[01;34mpymp-LqsgoC\u001b[0m/\r\n",
      "drwx------   2 s215     tumuser     4096 Aug  5 18:55 \u001b[01;34mpymp-bU2tVC\u001b[0m/\r\n",
      "drwx------   2 s215     tumuser     4096 Aug  5 18:55 \u001b[01;34mpymp-miCZWo\u001b[0m/\r\n",
      "drwx------   2 s215     tumuser     4096 Aug  5 18:51 \u001b[01;34mpymp-bp0L0E\u001b[0m/\r\n",
      "drwx------   2 s215     tumuser     4096 Aug  5 18:51 \u001b[01;34mpymp-sgFwPz\u001b[0m/\r\n",
      "drwx------   2 s215     tumuser     4096 Aug  5 18:51 \u001b[01;34mpymp-EOydc8\u001b[0m/\r\n",
      "drwx------   2 s215     tumuser     4096 Aug  5 18:51 \u001b[01;34mpymp-pIx9Eo\u001b[0m/\r\n",
      "drwx------   2 s215     tumuser     4096 Aug  5 13:57 \u001b[01;34mpymp-sGAPhU\u001b[0m/\r\n",
      "drwx------   2 s215     tumuser     4096 Aug  5 13:57 \u001b[01;34mpymp-g__YVC\u001b[0m/\r\n",
      "drwx------   2 s215     tumuser     4096 Aug  5 13:57 \u001b[01;34mpymp-9FMQaM\u001b[0m/\r\n",
      "drwx------   2 s215     tumuser     4096 Aug  5 13:57 \u001b[01;34mpymp-RTjU3H\u001b[0m/\r\n",
      "drwx------   2 s215     tumuser     4096 Aug  5 13:40 \u001b[01;34mpymp-KHuRui\u001b[0m/\r\n",
      "drwx------   2 s215     tumuser     4096 Aug  5 13:40 \u001b[01;34mpymp-gsvkSQ\u001b[0m/\r\n",
      "drwx------   2 s215     tumuser     4096 Aug  5 13:40 \u001b[01;34mpymp-inWb6A\u001b[0m/\r\n",
      "drwx------   2 s215     tumuser     4096 Aug  5 13:40 \u001b[01;34mpymp-EOJa0M\u001b[0m/\r\n",
      "drwx------   2 s215     tumuser     4096 Aug  5 13:39 \u001b[01;34mpymp-YC3UZZ\u001b[0m/\r\n",
      "drwx------   2 s215     tumuser     4096 Aug  5 12:37 \u001b[01;34mpymp-GUGrQc\u001b[0m/\r\n",
      "drwx------   2 s215     tumuser     4096 Aug  5 12:37 \u001b[01;34mpymp-xMdDms\u001b[0m/\r\n",
      "drwx------   2 s215     tumuser     4096 Aug  5 12:37 \u001b[01;34mpymp-NJNz65\u001b[0m/\r\n",
      "drwx------   2 s215     tumuser     4096 Aug  5 12:37 \u001b[01;34mpymp-lt0zSI\u001b[0m/\r\n",
      "drwx------   2 s215     tumuser     4096 Aug  5 12:26 \u001b[01;34mpymp-N5VBxz\u001b[0m/\r\n",
      "drwx------   2 s215     tumuser     4096 Aug  5 12:26 \u001b[01;34mpymp-8dMpk9\u001b[0m/\r\n",
      "drwx------   2 s215     tumuser     4096 Aug  5 12:26 \u001b[01;34mpymp-sFFf0r\u001b[0m/\r\n",
      "drwx------   2 s215     tumuser     4096 Aug  5 12:26 \u001b[01;34mpymp-uUWc3E\u001b[0m/\r\n",
      "drwx------   2 s215     tumuser     4096 Aug  5 12:24 \u001b[01;34mpymp-xBHrie\u001b[0m/\r\n",
      "drwx------   2 s215     tumuser     4096 Aug  5 12:24 \u001b[01;34mpymp-xO06j3\u001b[0m/\r\n",
      "drwx------   2 s215     tumuser     4096 Aug  5 12:24 \u001b[01;34mpymp-V0GcIN\u001b[0m/\r\n",
      "drwx------   2 s215     tumuser     4096 Aug  5 12:24 \u001b[01;34mpymp-8h2oBX\u001b[0m/\r\n",
      "drwx------   2 s215     tumuser     4096 Aug  5 12:18 \u001b[01;34mpymp-xu1PQR\u001b[0m/\r\n",
      "drwx------   2 s215     tumuser     4096 Aug  5 11:00 \u001b[01;34mpymp-DgrcA2\u001b[0m/\r\n",
      "drwx------   2 s215     tumuser     4096 Aug  5 11:00 \u001b[01;34mpymp-17SPis\u001b[0m/\r\n",
      "drwx------   2 s215     tumuser     4096 Aug  5 11:00 \u001b[01;34mpymp-gx8rnK\u001b[0m/\r\n",
      "drwx------   2 s215     tumuser     4096 Aug  5 11:00 \u001b[01;34mpymp-k5v54H\u001b[0m/\r\n",
      "drwx------   2 s215     tumuser     4096 Aug  5 11:00 \u001b[01;34mpymp-ubm9OZ\u001b[0m/\r\n",
      "drwx------   2 s203     tumuser     4096 Aug  5 10:46 \u001b[01;34mpymp-OZrctH\u001b[0m/\r\n",
      "drwx------   2 s203     tumuser     4096 Aug  5 10:46 \u001b[01;34mpymp-5Edjye\u001b[0m/\r\n",
      "drwx------   2 s215     tumuser     4096 Aug  5 10:26 \u001b[01;34mpymp-fshzPN\u001b[0m/\r\n",
      "drwx------   2 s203     tumuser     4096 Aug  5 08:22 \u001b[01;34mpymp-T_48YK\u001b[0m/\r\n",
      "drwx------   2 s203     tumuser     4096 Aug  5 08:21 \u001b[01;34mpymp-ILSRKm\u001b[0m/\r\n",
      "drwx------   2 s189     tumuser     4096 Aug  4 23:25 \u001b[01;34mfirefox_s189\u001b[0m/\r\n",
      "drwx------   2 s215     tumuser     4096 Aug  4 17:17 \u001b[01;34mpymp-cmkFFm\u001b[0m/\r\n",
      "drwx------   2 s215     tumuser     4096 Aug  4 17:17 \u001b[01;34mpymp-HsUxt1\u001b[0m/\r\n",
      "drwx------   2 s215     tumuser     4096 Aug  4 17:17 \u001b[01;34mpymp-f36vNJ\u001b[0m/\r\n",
      "drwx------   2 s215     tumuser     4096 Aug  4 17:17 \u001b[01;34mpymp-1C7q4_\u001b[0m/\r\n",
      "drwx------   2 s215     tumuser     4096 Aug  4 17:15 \u001b[01;34mpymp-opRxAE\u001b[0m/\r\n",
      "drwx------   2 s215     tumuser     4096 Aug  4 17:15 \u001b[01;34mpymp-vgMBYf\u001b[0m/\r\n",
      "drwx------   2 s215     tumuser     4096 Aug  4 17:15 \u001b[01;34mpymp-7Yx235\u001b[0m/\r\n",
      "drwx------   2 s215     tumuser     4096 Aug  4 17:15 \u001b[01;34mpymp-lJuqZ1\u001b[0m/\r\n",
      "drwx------   2 s215     tumuser     4096 Aug  4 17:13 \u001b[01;34mpymp-hiwMDn\u001b[0m/\r\n",
      "drwx------   2 s215     tumuser     4096 Aug  4 17:13 \u001b[01;34mpymp-YSD3r9\u001b[0m/\r\n",
      "drwx------   2 s215     tumuser     4096 Aug  4 17:13 \u001b[01;34mpymp-3WRLav\u001b[0m/\r\n",
      "drwx------   2 s215     tumuser     4096 Aug  4 17:13 \u001b[01;34mpymp-wmp6GH\u001b[0m/\r\n",
      "-rw-r--r--   1 root     root       24868 Aug  4 16:05 vboxdrv-Module.symvers\r\n",
      "drwx------   3 root     root        4096 Aug  4 16:05 \u001b[01;34msystemd-private-a972446eb5fa4ec1ba1d8a4e00b8e82d-rtkit-daemon.service-NAkhwy\u001b[0m\u001b[K/\r\n",
      "-rw-r--r--   1 root     root          19 Aug  4 16:05 ntpscript.3024\r\n",
      "drwx------   3 root     root        4096 Aug  4 16:04 \u001b[01;34msystemd-private-a972446eb5fa4ec1ba1d8a4e00b8e82d-colord.service-yg1qcT\u001b[0m\u001b[K/\r\n",
      "drwxrwxrwt   2 root     root        4096 Aug  4 16:04 \u001b[30;42m.font-unix\u001b[0m/\r\n",
      "drwxrwxrwt   2 root     root        4096 Aug  4 16:04 \u001b[30;42m.Test-unix\u001b[0m/\r\n",
      "drwxrwxrwt   2 root     root        4096 Aug  4 16:04 \u001b[30;42m.XIM-unix\u001b[0m/\r\n",
      "drwx------   2 bachem   tumuser     4096 Jan  1  1970 \u001b[01;34morbit-bachem\u001b[0m/\r\n"
     ]
    }
   ],
   "source": [
    "%ls -lat /tmp"
   ]
  },
  {
   "cell_type": "code",
   "execution_count": 6,
   "metadata": {},
   "outputs": [
    {
     "ename": "ArgumentError",
     "evalue": "argument --sup_per_class: conflicting option string: --sup_per_class",
     "traceback": [
      "\u001b[0;31m---------------------------------------------------------------------------\u001b[0m",
      "\u001b[0;31mArgumentError\u001b[0m                             Traceback (most recent call last)",
      "\u001b[0;32m<ipython-input-6-56443ccd910b>\u001b[0m in \u001b[0;36m<module>\u001b[0;34m()\u001b[0m\n\u001b[1;32m     12\u001b[0m \u001b[0;34m\u001b[0m\u001b[0m\n\u001b[1;32m     13\u001b[0m flags.DEFINE_integer('sup_per_class', 2,\n\u001b[0;32m---> 14\u001b[0;31m                      'Number of labeled samples used per class.')\n\u001b[0m\u001b[1;32m     15\u001b[0m \u001b[0;34m\u001b[0m\u001b[0m\n\u001b[1;32m     16\u001b[0m flags.DEFINE_integer('sup_seed', -1,\n",
      "\u001b[0;32m~/.local/lib/python3.5/site-packages/tensorflow/python/platform/flags.py\u001b[0m in \u001b[0;36mDEFINE_integer\u001b[0;34m(flag_name, default_value, docstring)\u001b[0m\n\u001b[1;32m     89\u001b[0m     \u001b[0mdocstring\u001b[0m\u001b[0;34m:\u001b[0m \u001b[0mA\u001b[0m \u001b[0mhelpful\u001b[0m \u001b[0mmessage\u001b[0m \u001b[0mexplaining\u001b[0m \u001b[0mthe\u001b[0m \u001b[0muse\u001b[0m \u001b[0mof\u001b[0m \u001b[0mthe\u001b[0m \u001b[0mflag\u001b[0m\u001b[0;34m.\u001b[0m\u001b[0;34m\u001b[0m\u001b[0m\n\u001b[1;32m     90\u001b[0m   \"\"\"\n\u001b[0;32m---> 91\u001b[0;31m   \u001b[0m_define_helper\u001b[0m\u001b[0;34m(\u001b[0m\u001b[0mflag_name\u001b[0m\u001b[0;34m,\u001b[0m \u001b[0mdefault_value\u001b[0m\u001b[0;34m,\u001b[0m \u001b[0mdocstring\u001b[0m\u001b[0;34m,\u001b[0m \u001b[0mint\u001b[0m\u001b[0;34m)\u001b[0m\u001b[0;34m\u001b[0m\u001b[0m\n\u001b[0m\u001b[1;32m     92\u001b[0m \u001b[0;34m\u001b[0m\u001b[0m\n\u001b[1;32m     93\u001b[0m \u001b[0;34m\u001b[0m\u001b[0m\n",
      "\u001b[0;32m~/.local/lib/python3.5/site-packages/tensorflow/python/platform/flags.py\u001b[0m in \u001b[0;36m_define_helper\u001b[0;34m(flag_name, default_value, docstring, flagtype)\u001b[0m\n\u001b[1;32m     63\u001b[0m                               \u001b[0mdefault\u001b[0m\u001b[0;34m=\u001b[0m\u001b[0mdefault_value\u001b[0m\u001b[0;34m,\u001b[0m\u001b[0;34m\u001b[0m\u001b[0m\n\u001b[1;32m     64\u001b[0m                               \u001b[0mhelp\u001b[0m\u001b[0;34m=\u001b[0m\u001b[0mdocstring\u001b[0m\u001b[0;34m,\u001b[0m\u001b[0;34m\u001b[0m\u001b[0m\n\u001b[0;32m---> 65\u001b[0;31m                               type=flagtype)\n\u001b[0m\u001b[1;32m     66\u001b[0m \u001b[0;34m\u001b[0m\u001b[0m\n\u001b[1;32m     67\u001b[0m \u001b[0;34m\u001b[0m\u001b[0m\n",
      "\u001b[0;32m/usr/lib/python3.5/argparse.py\u001b[0m in \u001b[0;36madd_argument\u001b[0;34m(self, *args, **kwargs)\u001b[0m\n\u001b[1;32m   1351\u001b[0m                 \u001b[0;32mraise\u001b[0m \u001b[0mValueError\u001b[0m\u001b[0;34m(\u001b[0m\u001b[0;34m\"length of metavar tuple does not match nargs\"\u001b[0m\u001b[0;34m)\u001b[0m\u001b[0;34m\u001b[0m\u001b[0m\n\u001b[1;32m   1352\u001b[0m \u001b[0;34m\u001b[0m\u001b[0m\n\u001b[0;32m-> 1353\u001b[0;31m         \u001b[0;32mreturn\u001b[0m \u001b[0mself\u001b[0m\u001b[0;34m.\u001b[0m\u001b[0m_add_action\u001b[0m\u001b[0;34m(\u001b[0m\u001b[0maction\u001b[0m\u001b[0;34m)\u001b[0m\u001b[0;34m\u001b[0m\u001b[0m\n\u001b[0m\u001b[1;32m   1354\u001b[0m \u001b[0;34m\u001b[0m\u001b[0m\n\u001b[1;32m   1355\u001b[0m     \u001b[0;32mdef\u001b[0m \u001b[0madd_argument_group\u001b[0m\u001b[0;34m(\u001b[0m\u001b[0mself\u001b[0m\u001b[0;34m,\u001b[0m \u001b[0;34m*\u001b[0m\u001b[0margs\u001b[0m\u001b[0;34m,\u001b[0m \u001b[0;34m**\u001b[0m\u001b[0mkwargs\u001b[0m\u001b[0;34m)\u001b[0m\u001b[0;34m:\u001b[0m\u001b[0;34m\u001b[0m\u001b[0m\n",
      "\u001b[0;32m/usr/lib/python3.5/argparse.py\u001b[0m in \u001b[0;36m_add_action\u001b[0;34m(self, action)\u001b[0m\n\u001b[1;32m   1714\u001b[0m     \u001b[0;32mdef\u001b[0m \u001b[0m_add_action\u001b[0m\u001b[0;34m(\u001b[0m\u001b[0mself\u001b[0m\u001b[0;34m,\u001b[0m \u001b[0maction\u001b[0m\u001b[0;34m)\u001b[0m\u001b[0;34m:\u001b[0m\u001b[0;34m\u001b[0m\u001b[0m\n\u001b[1;32m   1715\u001b[0m         \u001b[0;32mif\u001b[0m \u001b[0maction\u001b[0m\u001b[0;34m.\u001b[0m\u001b[0moption_strings\u001b[0m\u001b[0;34m:\u001b[0m\u001b[0;34m\u001b[0m\u001b[0m\n\u001b[0;32m-> 1716\u001b[0;31m             \u001b[0mself\u001b[0m\u001b[0;34m.\u001b[0m\u001b[0m_optionals\u001b[0m\u001b[0;34m.\u001b[0m\u001b[0m_add_action\u001b[0m\u001b[0;34m(\u001b[0m\u001b[0maction\u001b[0m\u001b[0;34m)\u001b[0m\u001b[0;34m\u001b[0m\u001b[0m\n\u001b[0m\u001b[1;32m   1717\u001b[0m         \u001b[0;32melse\u001b[0m\u001b[0;34m:\u001b[0m\u001b[0;34m\u001b[0m\u001b[0m\n\u001b[1;32m   1718\u001b[0m             \u001b[0mself\u001b[0m\u001b[0;34m.\u001b[0m\u001b[0m_positionals\u001b[0m\u001b[0;34m.\u001b[0m\u001b[0m_add_action\u001b[0m\u001b[0;34m(\u001b[0m\u001b[0maction\u001b[0m\u001b[0;34m)\u001b[0m\u001b[0;34m\u001b[0m\u001b[0m\n",
      "\u001b[0;32m/usr/lib/python3.5/argparse.py\u001b[0m in \u001b[0;36m_add_action\u001b[0;34m(self, action)\u001b[0m\n\u001b[1;32m   1555\u001b[0m \u001b[0;34m\u001b[0m\u001b[0m\n\u001b[1;32m   1556\u001b[0m     \u001b[0;32mdef\u001b[0m \u001b[0m_add_action\u001b[0m\u001b[0;34m(\u001b[0m\u001b[0mself\u001b[0m\u001b[0;34m,\u001b[0m \u001b[0maction\u001b[0m\u001b[0;34m)\u001b[0m\u001b[0;34m:\u001b[0m\u001b[0;34m\u001b[0m\u001b[0m\n\u001b[0;32m-> 1557\u001b[0;31m         \u001b[0maction\u001b[0m \u001b[0;34m=\u001b[0m \u001b[0msuper\u001b[0m\u001b[0;34m(\u001b[0m\u001b[0m_ArgumentGroup\u001b[0m\u001b[0;34m,\u001b[0m \u001b[0mself\u001b[0m\u001b[0;34m)\u001b[0m\u001b[0;34m.\u001b[0m\u001b[0m_add_action\u001b[0m\u001b[0;34m(\u001b[0m\u001b[0maction\u001b[0m\u001b[0;34m)\u001b[0m\u001b[0;34m\u001b[0m\u001b[0m\n\u001b[0m\u001b[1;32m   1558\u001b[0m         \u001b[0mself\u001b[0m\u001b[0;34m.\u001b[0m\u001b[0m_group_actions\u001b[0m\u001b[0;34m.\u001b[0m\u001b[0mappend\u001b[0m\u001b[0;34m(\u001b[0m\u001b[0maction\u001b[0m\u001b[0;34m)\u001b[0m\u001b[0;34m\u001b[0m\u001b[0m\n\u001b[1;32m   1559\u001b[0m         \u001b[0;32mreturn\u001b[0m \u001b[0maction\u001b[0m\u001b[0;34m\u001b[0m\u001b[0m\n",
      "\u001b[0;32m/usr/lib/python3.5/argparse.py\u001b[0m in \u001b[0;36m_add_action\u001b[0;34m(self, action)\u001b[0m\n\u001b[1;32m   1365\u001b[0m     \u001b[0;32mdef\u001b[0m \u001b[0m_add_action\u001b[0m\u001b[0;34m(\u001b[0m\u001b[0mself\u001b[0m\u001b[0;34m,\u001b[0m \u001b[0maction\u001b[0m\u001b[0;34m)\u001b[0m\u001b[0;34m:\u001b[0m\u001b[0;34m\u001b[0m\u001b[0m\n\u001b[1;32m   1366\u001b[0m         \u001b[0;31m# resolve any conflicts\u001b[0m\u001b[0;34m\u001b[0m\u001b[0;34m\u001b[0m\u001b[0m\n\u001b[0;32m-> 1367\u001b[0;31m         \u001b[0mself\u001b[0m\u001b[0;34m.\u001b[0m\u001b[0m_check_conflict\u001b[0m\u001b[0;34m(\u001b[0m\u001b[0maction\u001b[0m\u001b[0;34m)\u001b[0m\u001b[0;34m\u001b[0m\u001b[0m\n\u001b[0m\u001b[1;32m   1368\u001b[0m \u001b[0;34m\u001b[0m\u001b[0m\n\u001b[1;32m   1369\u001b[0m         \u001b[0;31m# add to actions list\u001b[0m\u001b[0;34m\u001b[0m\u001b[0;34m\u001b[0m\u001b[0m\n",
      "\u001b[0;32m/usr/lib/python3.5/argparse.py\u001b[0m in \u001b[0;36m_check_conflict\u001b[0;34m(self, action)\u001b[0m\n\u001b[1;32m   1504\u001b[0m         \u001b[0;32mif\u001b[0m \u001b[0mconfl_optionals\u001b[0m\u001b[0;34m:\u001b[0m\u001b[0;34m\u001b[0m\u001b[0m\n\u001b[1;32m   1505\u001b[0m             \u001b[0mconflict_handler\u001b[0m \u001b[0;34m=\u001b[0m \u001b[0mself\u001b[0m\u001b[0;34m.\u001b[0m\u001b[0m_get_handler\u001b[0m\u001b[0;34m(\u001b[0m\u001b[0;34m)\u001b[0m\u001b[0;34m\u001b[0m\u001b[0m\n\u001b[0;32m-> 1506\u001b[0;31m             \u001b[0mconflict_handler\u001b[0m\u001b[0;34m(\u001b[0m\u001b[0maction\u001b[0m\u001b[0;34m,\u001b[0m \u001b[0mconfl_optionals\u001b[0m\u001b[0;34m)\u001b[0m\u001b[0;34m\u001b[0m\u001b[0m\n\u001b[0m\u001b[1;32m   1507\u001b[0m \u001b[0;34m\u001b[0m\u001b[0m\n\u001b[1;32m   1508\u001b[0m     \u001b[0;32mdef\u001b[0m \u001b[0m_handle_conflict_error\u001b[0m\u001b[0;34m(\u001b[0m\u001b[0mself\u001b[0m\u001b[0;34m,\u001b[0m \u001b[0maction\u001b[0m\u001b[0;34m,\u001b[0m \u001b[0mconflicting_actions\u001b[0m\u001b[0;34m)\u001b[0m\u001b[0;34m:\u001b[0m\u001b[0;34m\u001b[0m\u001b[0m\n",
      "\u001b[0;32m/usr/lib/python3.5/argparse.py\u001b[0m in \u001b[0;36m_handle_conflict_error\u001b[0;34m(self, action, conflicting_actions)\u001b[0m\n\u001b[1;32m   1513\u001b[0m                                      \u001b[0;32mfor\u001b[0m \u001b[0moption_string\u001b[0m\u001b[0;34m,\u001b[0m \u001b[0maction\u001b[0m\u001b[0;34m\u001b[0m\u001b[0m\n\u001b[1;32m   1514\u001b[0m                                      in conflicting_actions])\n\u001b[0;32m-> 1515\u001b[0;31m         \u001b[0;32mraise\u001b[0m \u001b[0mArgumentError\u001b[0m\u001b[0;34m(\u001b[0m\u001b[0maction\u001b[0m\u001b[0;34m,\u001b[0m \u001b[0mmessage\u001b[0m \u001b[0;34m%\u001b[0m \u001b[0mconflict_string\u001b[0m\u001b[0;34m)\u001b[0m\u001b[0;34m\u001b[0m\u001b[0m\n\u001b[0m\u001b[1;32m   1516\u001b[0m \u001b[0;34m\u001b[0m\u001b[0m\n\u001b[1;32m   1517\u001b[0m     \u001b[0;32mdef\u001b[0m \u001b[0m_handle_conflict_resolve\u001b[0m\u001b[0;34m(\u001b[0m\u001b[0mself\u001b[0m\u001b[0;34m,\u001b[0m \u001b[0maction\u001b[0m\u001b[0;34m,\u001b[0m \u001b[0mconflicting_actions\u001b[0m\u001b[0;34m)\u001b[0m\u001b[0;34m:\u001b[0m\u001b[0;34m\u001b[0m\u001b[0m\n",
      "\u001b[0;31mArgumentError\u001b[0m: argument --sup_per_class: conflicting option string: --sup_per_class"
     ],
     "output_type": "error"
    }
   ],
   "source": [
    "from __future__ import absolute_import\n",
    "from __future__ import division\n",
    "from __future__ import print_function\n",
    "\n",
    "import tensorflow as tf\n",
    "import semisup\n",
    "\n",
    "from tensorflow.python.platform import app\n",
    "from tensorflow.python.platform import flags\n",
    "\n",
    "FLAGS = flags.FLAGS\n",
    "\n",
    "flags.DEFINE_integer('sup_per_class', 2,\n",
    "                     'Number of labeled samples used per class.')\n",
    "\n",
    "flags.DEFINE_integer('sup_seed', -1,\n",
    "                     'Integer random seed used for labeled set selection.')\n",
    "\n",
    "flags.DEFINE_integer('sup_per_batch', 2,\n",
    "                     'Number of labeled samples per class per batch.')\n",
    "\n",
    "flags.DEFINE_integer('unsup_batch_size', 100,\n",
    "                     'Number of unlabeled samples per batch.')\n",
    "\n",
    "flags.DEFINE_integer('eval_interval', 500,\n",
    "                     'Number of steps between evaluations.')\n",
    "\n",
    "flags.DEFINE_float('learning_rate', 1e-3, 'Initial learning rate.')\n",
    "\n",
    "flags.DEFINE_float('decay_factor', 0.33, 'Learning rate decay factor.')\n",
    "\n",
    "flags.DEFINE_float('decay_steps', 5000,\n",
    "                   'Learning rate decay interval in steps.')\n",
    "\n",
    "flags.DEFINE_float('visit_weight', 1.0, 'Weight for visit loss.')\n",
    "\n",
    "flags.DEFINE_integer('max_steps', 20000, 'Number of training steps.')\n",
    "\n",
    "flags.DEFINE_string('logdir', '/tmp/semisup_mnist', 'Training log path.')"
   ]
  },
  {
   "cell_type": "code",
   "execution_count": 2,
   "metadata": {},
   "outputs": [
    {
     "name": "stdout",
     "output_type": "stream",
     "text": [
      "Extracting /usr/stud/plapp/data/mnist//train-images-idx3-ubyte.gz\n",
      "Extracting /usr/stud/plapp/data/mnist//train-labels-idx1-ubyte.gz\n",
      "Extracting /usr/stud/plapp/data/mnist//t10k-images-idx3-ubyte.gz\n",
      "Extracting /usr/stud/plapp/data/mnist//t10k-labels-idx1-ubyte.gz\n",
      "(20, 28, 28, 1)\n",
      "(21,)\n"
     ]
    }
   ],
   "source": [
    "from tools import mnist as mnist_tools\n",
    "import numpy as np\n",
    "\n",
    "NUM_LABELS = mnist_tools.NUM_LABELS\n",
    "IMAGE_SHAPE = mnist_tools.IMAGE_SHAPE\n",
    "\n",
    "train_images, train_labels = mnist_tools.get_data('train')\n",
    "test_images, test_labels = mnist_tools.get_data('test')\n",
    "\n",
    "# Sample labeled training subset.\n",
    "seed = FLAGS.sup_seed if FLAGS.sup_seed != -1 else None\n",
    "sup_by_label = semisup.sample_by_label(train_images, train_labels,\n",
    "                                     FLAGS.sup_per_class, NUM_LABELS, seed)\n",
    "sup_lbls =  np.hstack([ np.ones(len(i))*ind for ind, i in enumerate(sup_by_label)])\n",
    "sup_images = np.vstack(sup_by_label)\n",
    "print(sup_images.shape)\n",
    "sup_lbls = np.hstack([sup_lbls, [3]])\n",
    "print(sup_lbls.shape)\n",
    "graph = tf.Graph()\n",
    "with graph.as_default():\n",
    "    model = semisup.SemisupModel(semisup.architectures.mnist_model, NUM_LABELS,\n",
    "                                 IMAGE_SHAPE)\n",
    "\n",
    "    # Set up inputs.\n",
    "    t_unsup_images, _ = semisup.create_input(train_images, train_labels,\n",
    "                                             FLAGS.unsup_batch_size)\n",
    "    t_sup_images, t_sup_labels = semisup.create_per_class_inputs(\n",
    "        sup_by_label, FLAGS.sup_per_batch)\n",
    "\n",
    "    # Compute embeddings and logits.\n",
    "    t_sup_emb = model.image_to_embedding(t_sup_images)\n",
    "    t_unsup_emb = model.image_to_embedding(t_unsup_images)\n",
    "    t_sup_logit = model.embedding_to_logit(t_sup_emb)\n",
    "\n",
    "    # Add losses.\n",
    "    model.add_semisup_loss(\n",
    "        t_sup_emb, t_unsup_emb, t_sup_labels, visit_weight=FLAGS.visit_weight)\n",
    "    model.add_logit_loss(t_sup_logit, t_sup_labels)\n",
    "\n",
    "    saver = tf.train.Saver()"
   ]
  },
  {
   "cell_type": "code",
   "execution_count": 3,
   "metadata": {},
   "outputs": [
    {
     "name": "stdout",
     "output_type": "stream",
     "text": [
      "INFO:tensorflow:Restoring parameters from /tmp/semisup_mnist-5000\n",
      "0.8636\n",
      "0.8134\n"
     ]
    }
   ],
   "source": [
    "import numpy as np\n",
    "\n",
    "with tf.Session(graph=graph) as sess:\n",
    "    \n",
    "    coord = tf.train.Coordinator()\n",
    "    threads = tf.train.start_queue_runners(sess=sess, coord=coord)\n",
    "    \n",
    "    FLAGS.checkpoint_dir = '/tmp/'\n",
    "    ckpt = tf.train.get_checkpoint_state(FLAGS.checkpoint_dir)\n",
    "    if ckpt and ckpt.model_checkpoint_path:\n",
    "        saver.restore(sess, ckpt.model_checkpoint_path)\n",
    "\n",
    "    # regular acc\n",
    "    test_pred = model.classify(test_images).argmax(-1)\n",
    "    print (np.mean(test_pred == test_labels))\n",
    "    \n",
    "    # calculated using embeddings \n",
    "    acc = model.classify_using_embeddings(t_sup_images, t_sup_labels, test_images, test_labels, sess)\n",
    "    print(acc)\n",
    "    \n",
    "    coord.request_stop()\n",
    "    coord.join(threads)"
   ]
  },
  {
   "cell_type": "code",
   "execution_count": 22,
   "metadata": {
    "scrolled": false
   },
   "outputs": [
    {
     "name": "stdout",
     "output_type": "stream",
     "text": [
      "20\n",
      "[8 3 4 2 3 5 0 3 3 0 2 7 7 4 2 6 8 6 8 9]\n"
     ]
    },
    {
     "data": {
      "image/png": "[encoded data removed]",
      "text/plain": [
       "<matplotlib.figure.Figure at 0x7f4380d4d0b8>"
      ]
     },
     "metadata": {},
     "output_type": "display_data"
    },
    {
     "data": {
      "image/png": "[encoded data removed]",
      "text/plain": [
       "<matplotlib.figure.Figure at 0x7f4380d045c0>"
      ]
     },
     "metadata": {},
     "output_type": "display_data"
    },
    {
     "data": {
      "image/png": "[encoded data removed]",
      "text/plain": [
       "<matplotlib.figure.Figure at 0x7f437bd4f588>"
      ]
     },
     "metadata": {},
     "output_type": "display_data"
    },
    {
     "data": {
      "image/png": "[encoded data removed]",
      "text/plain": [
       "<matplotlib.figure.Figure at 0x7f437be00588>"
      ]
     },
     "metadata": {},
     "output_type": "display_data"
    },
    {
     "data": {
      "image/png": "[encoded data removed]",
      "text/plain": [
       "<matplotlib.figure.Figure at 0x7f4380d68748>"
      ]
     },
     "metadata": {},
     "output_type": "display_data"
    },
    {
     "data": {
      "image/png": "[encoded data removed]",
      "text/plain": [
       "<matplotlib.figure.Figure at 0x7f437bdc1b70>"
      ]
     },
     "metadata": {},
     "output_type": "display_data"
    },
    {
     "data": {
      "image/png": "[encoded data removed]",
      "text/plain": [
       "<matplotlib.figure.Figure at 0x7f4380ec97b8>"
      ]
     },
     "metadata": {},
     "output_type": "display_data"
    },
    {
     "data": {
      "image/png": "[encoded data removed]",
      "text/plain": [
       "<matplotlib.figure.Figure at 0x7f4380ca04a8>"
      ]
     },
     "metadata": {},
     "output_type": "display_data"
    },
    {
     "data": {
      "image/png": "[encoded data removed]",
      "text/plain": [
       "<matplotlib.figure.Figure at 0x7f4380d516d8>"
      ]
     },
     "metadata": {},
     "output_type": "display_data"
    },
    {
     "data": {
      "image/png": "[encoded data removed]",
      "text/plain": [
       "<matplotlib.figure.Figure at 0x7f4380def278>"
      ]
     },
     "metadata": {},
     "output_type": "display_data"
    },
    {
     "data": {
      "image/png": "[encoded data removed]",
      "text/plain": [
       "<matplotlib.figure.Figure at 0x7f4380d18668>"
      ]
     },
     "metadata": {},
     "output_type": "display_data"
    },
    {
     "data": {
      "image/png": "[encoded data removed]",
      "text/plain": [
       "<matplotlib.figure.Figure at 0x7f437bf0c3c8>"
      ]
     },
     "metadata": {},
     "output_type": "display_data"
    },
    {
     "data": {
      "image/png": "[encoded data removed]",
      "text/plain": [
       "<matplotlib.figure.Figure at 0x7f43831febe0>"
      ]
     },
     "metadata": {},
     "output_type": "display_data"
    },
    {
     "data": {
      "image/png": "[encoded data removed]",
      "text/plain": [
       "<matplotlib.figure.Figure at 0x7f4383471518>"
      ]
     },
     "metadata": {},
     "output_type": "display_data"
    },
    {
     "data": {
      "image/png": "[encoded data removed]",
      "text/plain": [
       "<matplotlib.figure.Figure at 0x7f437be45fd0>"
      ]
     },
     "metadata": {},
     "output_type": "display_data"
    },
    {
     "data": {
      "image/png": "[encoded data removed]",
      "text/plain": [
       "<matplotlib.figure.Figure at 0x7f4380ee17f0>"
      ]
     },
     "metadata": {},
     "output_type": "display_data"
    },
    {
     "data": {
      "image/png": "[encoded data removed]",
      "text/plain": [
       "<matplotlib.figure.Figure at 0x7f437bd827b8>"
      ]
     },
     "metadata": {},
     "output_type": "display_data"
    },
    {
     "data": {
      "image/png": "[encoded data removed]",
      "text/plain": [
       "<matplotlib.figure.Figure at 0x7f437bd160f0>"
      ]
     },
     "metadata": {},
     "output_type": "display_data"
    },
    {
     "data": {
      "image/png": "[encoded data removed]",
      "text/plain": [
       "<matplotlib.figure.Figure at 0x7f437bd50518>"
      ]
     },
     "metadata": {},
     "output_type": "display_data"
    },
    {
     "data": {
      "image/png": "[encoded data removed]",
      "text/plain": [
       "<matplotlib.figure.Figure at 0x7f4380f07cf8>"
      ]
     },
     "metadata": {},
     "output_type": "display_data"
    },
    {
     "data": {
      "image/png": "[encoded data removed]",
      "text/plain": [
       "<matplotlib.figure.Figure at 0x7f4380ca29e8>"
      ]
     },
     "metadata": {},
     "output_type": "display_data"
    }
   ],
   "source": [
    "import matplotlib.pyplot as plt\n",
    "% matplotlib inline\n",
    "\n",
    "def show_sample(id):\n",
    "    show_sample_img(train_images[id, :])\n",
    "def show_sample_img(img):\n",
    "    plt.imshow(img.reshape(28,28), cmap='gray')\n",
    "    plt.show()\n",
    "    \n",
    "sup_inds = [374, 2507, 9755, 12953, 16507, 16873, 23474, \n",
    "            23909, 30280, 35070, 49603, 50106, 51171, 51726, 51805, 55205, 57251, 57296, 57779, 59154] + \\\n",
    "               [16644, 45576, 52886, 42140, 29201, 7767, 24, 134, 8464, 15022, 15715, 15602, 11030, 3898, 10195, 1454,\n",
    "                3290, 5293, 5806, 274]\n",
    "    \n",
    "# from min var choice\n",
    "sup_inds = [37921, 9924, 49041, 32926, 37926, 5828, 28492, 8045, 38408, 37118, 31717, 15108, 5602, 35482, 56292, 59653, 36834, 15450, 49529, 6839]\n",
    "\n",
    "# lba with 7%\n",
    "sup_inds = [31952, 24138, 39818, 501, 24589, 34532, 25954, 9924, 26338, 10716, 14062, 8853, 1940, 9251, 7767, 8196, 10044, 9348, 3204, 1127]\n",
    "\n",
    "#lba with 15%\n",
    "sup_inds = [9924, 34058, 53476, 15715, 6428, 33598, 33464, 41753, 21250, 26389, 12950, 12464, 3795, 6761, 5638, 3952, 8300, 5632, 1475, 1875]\n",
    "print(len(sup_inds))\n",
    "print(train_labels[sup_inds])\n",
    "show_sample(11797)\n",
    "\n",
    "for i in range(10):\n",
    "    for ind in sup_inds:\n",
    "        if train_labels[ind] == i:\n",
    "            show_sample(ind)"
   ]
  },
  {
   "cell_type": "code",
   "execution_count": null,
   "metadata": {
    "collapsed": true,
    "scrolled": false
   },
   "outputs": [],
   "source": [
    "def softmax(x):\n",
    "    maxes = np.amax(x, axis=1)\n",
    "    maxes = maxes.reshape(maxes.shape[0], 1)\n",
    "    e = np.exp(x - maxes)\n",
    "    dist = e / np.sum(e, axis=1).reshape(maxes.shape[0], 1)\n",
    "    return dist\n",
    "\n",
    "def one_hot(a, depth):\n",
    "    b = np.zeros((a.size, depth))\n",
    "    b[np.arange(a.size), a] = 1\n",
    "    return b\n",
    "\n",
    "\n",
    "with tf.Session(graph=graph) as sess:\n",
    "    \n",
    "    coord = tf.train.Coordinator()\n",
    "    threads = tf.train.start_queue_runners(sess=sess, coord=coord)\n",
    "    \n",
    "    FLAGS.checkpoint_dir = '/tmp/'\n",
    "    ckpt = tf.train.get_checkpoint_state(FLAGS.checkpoint_dir)\n",
    "    if ckpt and ckpt.model_checkpoint_path:\n",
    "        saver.restore(sess, ckpt.model_checkpoint_path)\n",
    "\n",
    "        \n",
    "    sup_imgs, sup_lbls = model.get_images(t_sup_images, t_sup_labels, 1, sess)\n",
    "\n",
    "    sup_embs = model.calc_embedding(sup_imgs, model.test_emb)\n",
    "    train_embs = model.calc_embedding(train_images[0:10000,:], model.test_emb)\n",
    "\n",
    "    match_ab = np.dot(sup_embs, np.transpose(train_embs))\n",
    "    p_ba = softmax(np.transpose(match_ab))\n",
    "    \n",
    "    pred_ids = np.dot(p_ba, one_hot(sup_lbls, depth=model.num_labels))\n",
    "    print(pred_ids.shape)\n",
    "    preds = np.argmax(pred_ids, axis=1)\n",
    "    corrects = (preds == train_labels[0:10000])\n",
    "    \n",
    "    cor_p_ba = p_ba[corrects]\n",
    "    wrong_p_ba = p_ba[1-corrects]\n",
    "    \n",
    "    max_cor_ba = np.max(cor_p_ba, axis=1)\n",
    "    print('avg p_ab for correct class for correct samples', np.mean(max_cor_ba > 0.65))\n",
    "    \n",
    "    max_wrong_ba = np.max(wrong_p_ba, axis=1)\n",
    "    print('avg p_ab for incorrect class for incorrect samples', np.mean(max_wrong_ba > 0.65))\n",
    "    \n",
    "    # distances to other unlabeled samples\n",
    "    # not normalized\n",
    "    p_bb = np.dot(train_embs, np.transpose(train_embs))\n",
    "    \n",
    "    #ignore faraway samples\n",
    "    print('p', np.percentile(p_bb, 95))\n",
    "    p_bb[p_bb < np.percentile(p_bb, 95)] = 0\n",
    "    p_bb[p_bb > 1] = 1\n",
    "    \n",
    "    # calculate region confidence: sample confidence + confidence of close-by_samples\n",
    "    sample_conf = np.var(p_ba, axis = 1)\n",
    "    print(np.mean(sample_conf), np.max(sample_conf), np.min(sample_conf))\n",
    "    thresh = 0.01\n",
    "    sample_conf[sample_conf > thresh] = 4\n",
    "    sample_conf[sample_conf < thresh] = -1\n",
    "    region_conf = np.dot(p_bb, sample_conf)\n",
    "    \n",
    "    cor_rc = region_conf[corrects]\n",
    "    wrong_rc = region_conf[1-corrects]\n",
    "    \n",
    "    \n",
    "    #print('avg region confidence for correct samples', np.mean(cor_rc))\n",
    "    \n",
    "    #print('avg region confidence for incorrect samples', np.mean(wrong_rc))\n",
    "    \n",
    "    indices = np.argpartition(region_conf, kth=model.num_labels)[:model.num_labels]\n",
    "    print('indices', indices)\n",
    "    \n",
    "    for i in indices:\n",
    "        show_sample(i)\n",
    "        print('ii', i, train_labels[i], region_conf[i], sum(p_bb[i, :]))\n",
    "\n",
    "    #find close by samples and visualize them\n",
    "    close_by_indices = np.where( p_bb[am, :] > 0 )\n",
    "    for samp in close_by_indices[0]:\n",
    "        show_sample(samp)\n",
    "    \n",
    "    for img in sup_imgs:\n",
    "        show_sample_img(img)\n",
    "    \n",
    "    \n",
    "    # now, calculate the 'confidence' of the region around the sample\n",
    "    \n",
    "    print(p_bb.shape)\n",
    "    print('0',p_bb[0])\n",
    "    print('45',p_bb[45])\n",
    "    print(np.argmax(p_bb[0]), p_bb[0][1634])\n",
    "    print(np.argmax(p_bb[45]), p_bb[45][8837], p_bb[45][45])\n",
    "    \n",
    "    print(np.mean(np.diag(p_bb)))\n",
    "    \n",
    "    print(p_ba[1634,:])\n",
    "    print(p_ba[8837,:])\n",
    "    print(train_labels[45], train_labels[8837])\n",
    "    coord.request_stop()\n",
    "    coord.join(threads)"
   ]
  },
  {
   "cell_type": "code",
   "execution_count": 5,
   "metadata": {
    "scrolled": false
   },
   "outputs": [
    {
     "ename": "RuntimeError",
     "evalue": "Attempted to use a closed Session.",
     "traceback": [
      "\u001b[0;31m---------------------------------------------------------------------------\u001b[0m",
      "\u001b[0;31mRuntimeError\u001b[0m                              Traceback (most recent call last)",
      "\u001b[0;32m<ipython-input-5-0556a0becbc8>\u001b[0m in \u001b[0;36m<module>\u001b[0;34m()\u001b[0m\n\u001b[1;32m      1\u001b[0m \u001b[0;32mwith\u001b[0m \u001b[0msess\u001b[0m\u001b[0;34m:\u001b[0m\u001b[0;34m\u001b[0m\u001b[0m\n\u001b[1;32m      2\u001b[0m     \u001b[0mtest_pred\u001b[0m \u001b[0;34m=\u001b[0m \u001b[0mmodel\u001b[0m\u001b[0;34m.\u001b[0m\u001b[0mclassify\u001b[0m\u001b[0;34m(\u001b[0m\u001b[0mtest_images\u001b[0m\u001b[0;34m)\u001b[0m\u001b[0;34m.\u001b[0m\u001b[0margmax\u001b[0m\u001b[0;34m(\u001b[0m\u001b[0;34m-\u001b[0m\u001b[0;36m1\u001b[0m\u001b[0;34m)\u001b[0m\u001b[0;34m\u001b[0m\u001b[0m\n\u001b[0;32m----> 3\u001b[0;31m     \u001b[0mprint\u001b[0m \u001b[0;34m(\u001b[0m\u001b[0mnp\u001b[0m\u001b[0;34m.\u001b[0m\u001b[0mmean\u001b[0m\u001b[0;34m(\u001b[0m\u001b[0mtest_pred\u001b[0m \u001b[0;34m==\u001b[0m \u001b[0mtest_labels\u001b[0m\u001b[0;34m)\u001b[0m\u001b[0;34m)\u001b[0m\u001b[0;34m\u001b[0m\u001b[0m\n\u001b[0m\u001b[1;32m      4\u001b[0m \u001b[0;34m\u001b[0m\u001b[0m\n",
      "\u001b[0;32m~/.local/lib/python3.5/site-packages/tensorflow/python/client/session.py\u001b[0m in \u001b[0;36m__exit__\u001b[0;34m(self, exec_type, exec_value, exec_tb)\u001b[0m\n\u001b[1;32m   1311\u001b[0m       \u001b[0mlogging\u001b[0m\u001b[0;34m.\u001b[0m\u001b[0merror\u001b[0m\u001b[0;34m(\u001b[0m\u001b[0;34m'Session closing due to OpError: %s'\u001b[0m\u001b[0;34m,\u001b[0m \u001b[0;34m(\u001b[0m\u001b[0mexec_value\u001b[0m\u001b[0;34m,\u001b[0m\u001b[0;34m)\u001b[0m\u001b[0;34m)\u001b[0m\u001b[0;34m\u001b[0m\u001b[0m\n\u001b[1;32m   1312\u001b[0m     self._default_session_context_manager.__exit__(\n\u001b[0;32m-> 1313\u001b[0;31m         exec_type, exec_value, exec_tb)\n\u001b[0m\u001b[1;32m   1314\u001b[0m     \u001b[0mself\u001b[0m\u001b[0;34m.\u001b[0m\u001b[0m_default_graph_context_manager\u001b[0m\u001b[0;34m.\u001b[0m\u001b[0m__exit__\u001b[0m\u001b[0;34m(\u001b[0m\u001b[0mexec_type\u001b[0m\u001b[0;34m,\u001b[0m \u001b[0mexec_value\u001b[0m\u001b[0;34m,\u001b[0m \u001b[0mexec_tb\u001b[0m\u001b[0;34m)\u001b[0m\u001b[0;34m\u001b[0m\u001b[0m\n\u001b[1;32m   1315\u001b[0m \u001b[0;34m\u001b[0m\u001b[0m\n",
      "\u001b[0;32m/usr/lib/python3.5/contextlib.py\u001b[0m in \u001b[0;36m__exit__\u001b[0;34m(self, type, value, traceback)\u001b[0m\n\u001b[1;32m     75\u001b[0m                 \u001b[0mvalue\u001b[0m \u001b[0;34m=\u001b[0m \u001b[0mtype\u001b[0m\u001b[0;34m(\u001b[0m\u001b[0;34m)\u001b[0m\u001b[0;34m\u001b[0m\u001b[0m\n\u001b[1;32m     76\u001b[0m             \u001b[0;32mtry\u001b[0m\u001b[0;34m:\u001b[0m\u001b[0;34m\u001b[0m\u001b[0m\n\u001b[0;32m---> 77\u001b[0;31m                 \u001b[0mself\u001b[0m\u001b[0;34m.\u001b[0m\u001b[0mgen\u001b[0m\u001b[0;34m.\u001b[0m\u001b[0mthrow\u001b[0m\u001b[0;34m(\u001b[0m\u001b[0mtype\u001b[0m\u001b[0;34m,\u001b[0m \u001b[0mvalue\u001b[0m\u001b[0;34m,\u001b[0m \u001b[0mtraceback\u001b[0m\u001b[0;34m)\u001b[0m\u001b[0;34m\u001b[0m\u001b[0m\n\u001b[0m\u001b[1;32m     78\u001b[0m                 \u001b[0;32mraise\u001b[0m \u001b[0mRuntimeError\u001b[0m\u001b[0;34m(\u001b[0m\u001b[0;34m\"generator didn't stop after throw()\"\u001b[0m\u001b[0;34m)\u001b[0m\u001b[0;34m\u001b[0m\u001b[0m\n\u001b[1;32m     79\u001b[0m             \u001b[0;32mexcept\u001b[0m \u001b[0mStopIteration\u001b[0m \u001b[0;32mas\u001b[0m \u001b[0mexc\u001b[0m\u001b[0;34m:\u001b[0m\u001b[0;34m\u001b[0m\u001b[0m\n",
      "\u001b[0;32m~/.local/lib/python3.5/site-packages/tensorflow/python/framework/ops.py\u001b[0m in \u001b[0;36mget_controller\u001b[0;34m(self, default)\u001b[0m\n\u001b[1;32m   3810\u001b[0m     \u001b[0;32mtry\u001b[0m\u001b[0;34m:\u001b[0m\u001b[0;34m\u001b[0m\u001b[0m\n\u001b[1;32m   3811\u001b[0m       \u001b[0mself\u001b[0m\u001b[0;34m.\u001b[0m\u001b[0mstack\u001b[0m\u001b[0;34m.\u001b[0m\u001b[0mappend\u001b[0m\u001b[0;34m(\u001b[0m\u001b[0mdefault\u001b[0m\u001b[0;34m)\u001b[0m\u001b[0;34m\u001b[0m\u001b[0m\n\u001b[0;32m-> 3812\u001b[0;31m       \u001b[0;32myield\u001b[0m \u001b[0mdefault\u001b[0m\u001b[0;34m\u001b[0m\u001b[0m\n\u001b[0m\u001b[1;32m   3813\u001b[0m     \u001b[0;32mfinally\u001b[0m\u001b[0;34m:\u001b[0m\u001b[0;34m\u001b[0m\u001b[0m\n\u001b[1;32m   3814\u001b[0m       \u001b[0;32mif\u001b[0m \u001b[0mself\u001b[0m\u001b[0;34m.\u001b[0m\u001b[0m_enforce_nesting\u001b[0m\u001b[0;34m:\u001b[0m\u001b[0;34m\u001b[0m\u001b[0m\n",
      "\u001b[0;32m<ipython-input-5-0556a0becbc8>\u001b[0m in \u001b[0;36m<module>\u001b[0;34m()\u001b[0m\n\u001b[1;32m      1\u001b[0m \u001b[0;32mwith\u001b[0m \u001b[0msess\u001b[0m\u001b[0;34m:\u001b[0m\u001b[0;34m\u001b[0m\u001b[0m\n\u001b[0;32m----> 2\u001b[0;31m     \u001b[0mtest_pred\u001b[0m \u001b[0;34m=\u001b[0m \u001b[0mmodel\u001b[0m\u001b[0;34m.\u001b[0m\u001b[0mclassify\u001b[0m\u001b[0;34m(\u001b[0m\u001b[0mtest_images\u001b[0m\u001b[0;34m)\u001b[0m\u001b[0;34m.\u001b[0m\u001b[0margmax\u001b[0m\u001b[0;34m(\u001b[0m\u001b[0;34m-\u001b[0m\u001b[0;36m1\u001b[0m\u001b[0;34m)\u001b[0m\u001b[0;34m\u001b[0m\u001b[0m\n\u001b[0m\u001b[1;32m      3\u001b[0m     \u001b[0mprint\u001b[0m \u001b[0;34m(\u001b[0m\u001b[0mnp\u001b[0m\u001b[0;34m.\u001b[0m\u001b[0mmean\u001b[0m\u001b[0;34m(\u001b[0m\u001b[0mtest_pred\u001b[0m \u001b[0;34m==\u001b[0m \u001b[0mtest_labels\u001b[0m\u001b[0;34m)\u001b[0m\u001b[0;34m)\u001b[0m\u001b[0;34m\u001b[0m\u001b[0m\n\u001b[1;32m      4\u001b[0m \u001b[0;34m\u001b[0m\u001b[0m\n",
      "\u001b[0;32m~/lba_tf/semisup/backend.py\u001b[0m in \u001b[0;36mclassify\u001b[0;34m(self, images)\u001b[0m\n\u001b[1;32m    280\u001b[0m   \u001b[0;32mdef\u001b[0m \u001b[0mclassify\u001b[0m\u001b[0;34m(\u001b[0m\u001b[0mself\u001b[0m\u001b[0;34m,\u001b[0m \u001b[0mimages\u001b[0m\u001b[0;34m)\u001b[0m\u001b[0;34m:\u001b[0m\u001b[0;34m\u001b[0m\u001b[0m\n\u001b[1;32m    281\u001b[0m     \u001b[0;34m\"\"\"Compute logit scores for provided images.\"\"\"\u001b[0m\u001b[0;34m\u001b[0m\u001b[0m\n\u001b[0;32m--> 282\u001b[0;31m     \u001b[0;32mreturn\u001b[0m \u001b[0mself\u001b[0m\u001b[0;34m.\u001b[0m\u001b[0mcalc_embedding\u001b[0m\u001b[0;34m(\u001b[0m\u001b[0mimages\u001b[0m\u001b[0;34m,\u001b[0m \u001b[0mself\u001b[0m\u001b[0;34m.\u001b[0m\u001b[0mtest_logit\u001b[0m\u001b[0;34m)\u001b[0m\u001b[0;34m\u001b[0m\u001b[0m\n\u001b[0m\u001b[1;32m    283\u001b[0m \u001b[0;34m\u001b[0m\u001b[0m\n\u001b[1;32m    284\u001b[0m   \u001b[0;32mdef\u001b[0m \u001b[0mget_images\u001b[0m\u001b[0;34m(\u001b[0m\u001b[0mself\u001b[0m\u001b[0;34m,\u001b[0m \u001b[0mimg_queue\u001b[0m\u001b[0;34m,\u001b[0m \u001b[0mlbl_queue\u001b[0m\u001b[0;34m,\u001b[0m \u001b[0mnum_batches\u001b[0m\u001b[0;34m,\u001b[0m \u001b[0msess\u001b[0m\u001b[0;34m)\u001b[0m\u001b[0;34m:\u001b[0m\u001b[0;34m\u001b[0m\u001b[0m\n",
      "\u001b[0;32m~/lba_tf/semisup/backend.py\u001b[0m in \u001b[0;36mcalc_embedding\u001b[0;34m(self, images, endpoint)\u001b[0m\n\u001b[1;32m    275\u001b[0m     \u001b[0memb\u001b[0m \u001b[0;34m=\u001b[0m \u001b[0;34m[\u001b[0m\u001b[0;34m]\u001b[0m\u001b[0;34m\u001b[0m\u001b[0m\n\u001b[1;32m    276\u001b[0m     \u001b[0;32mfor\u001b[0m \u001b[0mi\u001b[0m \u001b[0;32min\u001b[0m \u001b[0mrange\u001b[0m\u001b[0;34m(\u001b[0m\u001b[0;36m0\u001b[0m\u001b[0;34m,\u001b[0m \u001b[0mlen\u001b[0m\u001b[0;34m(\u001b[0m\u001b[0mimages\u001b[0m\u001b[0;34m)\u001b[0m\u001b[0;34m,\u001b[0m \u001b[0mbatch_size\u001b[0m\u001b[0;34m)\u001b[0m\u001b[0;34m:\u001b[0m\u001b[0;34m\u001b[0m\u001b[0m\n\u001b[0;32m--> 277\u001b[0;31m       \u001b[0memb\u001b[0m\u001b[0;34m.\u001b[0m\u001b[0mappend\u001b[0m\u001b[0;34m(\u001b[0m\u001b[0mendpoint\u001b[0m\u001b[0;34m.\u001b[0m\u001b[0meval\u001b[0m\u001b[0;34m(\u001b[0m\u001b[0;34m{\u001b[0m\u001b[0mself\u001b[0m\u001b[0;34m.\u001b[0m\u001b[0mtest_in\u001b[0m\u001b[0;34m:\u001b[0m \u001b[0mimages\u001b[0m\u001b[0;34m[\u001b[0m\u001b[0mi\u001b[0m\u001b[0;34m:\u001b[0m \u001b[0mi\u001b[0m\u001b[0;34m+\u001b[0m\u001b[0mbatch_size\u001b[0m\u001b[0;34m]\u001b[0m\u001b[0;34m}\u001b[0m\u001b[0;34m)\u001b[0m\u001b[0;34m)\u001b[0m\u001b[0;34m\u001b[0m\u001b[0m\n\u001b[0m\u001b[1;32m    278\u001b[0m     \u001b[0;32mreturn\u001b[0m \u001b[0mnp\u001b[0m\u001b[0;34m.\u001b[0m\u001b[0mconcatenate\u001b[0m\u001b[0;34m(\u001b[0m\u001b[0memb\u001b[0m\u001b[0;34m)\u001b[0m\u001b[0;34m\u001b[0m\u001b[0m\n\u001b[1;32m    279\u001b[0m \u001b[0;34m\u001b[0m\u001b[0m\n",
      "\u001b[0;32m~/.local/lib/python3.5/site-packages/tensorflow/python/framework/ops.py\u001b[0m in \u001b[0;36meval\u001b[0;34m(self, feed_dict, session)\u001b[0m\n\u001b[1;32m    604\u001b[0m \u001b[0;34m\u001b[0m\u001b[0m\n\u001b[1;32m    605\u001b[0m     \"\"\"\n\u001b[0;32m--> 606\u001b[0;31m     \u001b[0;32mreturn\u001b[0m \u001b[0m_eval_using_default_session\u001b[0m\u001b[0;34m(\u001b[0m\u001b[0mself\u001b[0m\u001b[0;34m,\u001b[0m \u001b[0mfeed_dict\u001b[0m\u001b[0;34m,\u001b[0m \u001b[0mself\u001b[0m\u001b[0;34m.\u001b[0m\u001b[0mgraph\u001b[0m\u001b[0;34m,\u001b[0m \u001b[0msession\u001b[0m\u001b[0;34m)\u001b[0m\u001b[0;34m\u001b[0m\u001b[0m\n\u001b[0m\u001b[1;32m    607\u001b[0m \u001b[0;34m\u001b[0m\u001b[0m\n\u001b[1;32m    608\u001b[0m \u001b[0;34m\u001b[0m\u001b[0m\n",
      "\u001b[0;32m~/.local/lib/python3.5/site-packages/tensorflow/python/framework/ops.py\u001b[0m in \u001b[0;36m_eval_using_default_session\u001b[0;34m(tensors, feed_dict, graph, session)\u001b[0m\n\u001b[1;32m   3926\u001b[0m                        \u001b[0;34m\"the tensor's graph is different from the session's \"\u001b[0m\u001b[0;34m\u001b[0m\u001b[0m\n\u001b[1;32m   3927\u001b[0m                        \"graph.\")\n\u001b[0;32m-> 3928\u001b[0;31m   \u001b[0;32mreturn\u001b[0m \u001b[0msession\u001b[0m\u001b[0;34m.\u001b[0m\u001b[0mrun\u001b[0m\u001b[0;34m(\u001b[0m\u001b[0mtensors\u001b[0m\u001b[0;34m,\u001b[0m \u001b[0mfeed_dict\u001b[0m\u001b[0;34m)\u001b[0m\u001b[0;34m\u001b[0m\u001b[0m\n\u001b[0m\u001b[1;32m   3929\u001b[0m \u001b[0;34m\u001b[0m\u001b[0m\n\u001b[1;32m   3930\u001b[0m \u001b[0;34m\u001b[0m\u001b[0m\n",
      "\u001b[0;32m~/.local/lib/python3.5/site-packages/tensorflow/python/client/session.py\u001b[0m in \u001b[0;36mrun\u001b[0;34m(self, fetches, feed_dict, options, run_metadata)\u001b[0m\n\u001b[1;32m    787\u001b[0m     \u001b[0;32mtry\u001b[0m\u001b[0;34m:\u001b[0m\u001b[0;34m\u001b[0m\u001b[0m\n\u001b[1;32m    788\u001b[0m       result = self._run(None, fetches, feed_dict, options_ptr,\n\u001b[0;32m--> 789\u001b[0;31m                          run_metadata_ptr)\n\u001b[0m\u001b[1;32m    790\u001b[0m       \u001b[0;32mif\u001b[0m \u001b[0mrun_metadata\u001b[0m\u001b[0;34m:\u001b[0m\u001b[0;34m\u001b[0m\u001b[0m\n\u001b[1;32m    791\u001b[0m         \u001b[0mproto_data\u001b[0m \u001b[0;34m=\u001b[0m \u001b[0mtf_session\u001b[0m\u001b[0;34m.\u001b[0m\u001b[0mTF_GetBuffer\u001b[0m\u001b[0;34m(\u001b[0m\u001b[0mrun_metadata_ptr\u001b[0m\u001b[0;34m)\u001b[0m\u001b[0;34m\u001b[0m\u001b[0m\n",
      "\u001b[0;32m~/.local/lib/python3.5/site-packages/tensorflow/python/client/session.py\u001b[0m in \u001b[0;36m_run\u001b[0;34m(self, handle, fetches, feed_dict, options, run_metadata)\u001b[0m\n\u001b[1;32m    923\u001b[0m     \u001b[0;31m# Check session.\u001b[0m\u001b[0;34m\u001b[0m\u001b[0;34m\u001b[0m\u001b[0m\n\u001b[1;32m    924\u001b[0m     \u001b[0;32mif\u001b[0m \u001b[0mself\u001b[0m\u001b[0;34m.\u001b[0m\u001b[0m_closed\u001b[0m\u001b[0;34m:\u001b[0m\u001b[0;34m\u001b[0m\u001b[0m\n\u001b[0;32m--> 925\u001b[0;31m       \u001b[0;32mraise\u001b[0m \u001b[0mRuntimeError\u001b[0m\u001b[0;34m(\u001b[0m\u001b[0;34m'Attempted to use a closed Session.'\u001b[0m\u001b[0;34m)\u001b[0m\u001b[0;34m\u001b[0m\u001b[0m\n\u001b[0m\u001b[1;32m    926\u001b[0m     \u001b[0;32mif\u001b[0m \u001b[0mself\u001b[0m\u001b[0;34m.\u001b[0m\u001b[0mgraph\u001b[0m\u001b[0;34m.\u001b[0m\u001b[0mversion\u001b[0m \u001b[0;34m==\u001b[0m \u001b[0;36m0\u001b[0m\u001b[0;34m:\u001b[0m\u001b[0;34m\u001b[0m\u001b[0m\n\u001b[1;32m    927\u001b[0m       raise RuntimeError('The Session graph is empty.  Add operations to the '\n",
      "\u001b[0;31mRuntimeError\u001b[0m: Attempted to use a closed Session."
     ],
     "output_type": "error"
    }
   ],
   "source": [
    "with sess:\n",
    "    test_pred = model.classify(test_images).argmax(-1)\n",
    "    print (np.mean(test_pred == test_labels))"
   ]
  },
  {
   "cell_type": "code",
   "execution_count": null,
   "metadata": {
    "collapsed": true
   },
   "outputs": [],
   "source": [
    ""
   ]
  }
 ],
 "metadata": {
  "kernelspec": {
   "display_name": "Python 3",
   "language": "python",
   "name": "python3"
  },
  "language_info": {
   "codemirror_mode": {
    "name": "ipython",
    "version": 3
   },
   "file_extension": ".py",
   "mimetype": "text/x-python",
   "name": "python",
   "nbconvert_exporter": "python",
   "pygments_lexer": "ipython3",
   "version": "3.5.2"
  }
 },
 "nbformat": 4,
 "nbformat_minor": 0
}
